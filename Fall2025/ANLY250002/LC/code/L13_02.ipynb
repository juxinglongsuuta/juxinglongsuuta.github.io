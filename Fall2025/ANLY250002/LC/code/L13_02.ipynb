{
  "nbformat": 4,
  "nbformat_minor": 0,
  "metadata": {
    "colab": {
      "provenance": []
    },
    "kernelspec": {
      "name": "python3",
      "display_name": "Python 3"
    },
    "language_info": {
      "name": "python"
    }
  },
  "cells": [
    {
      "cell_type": "code",
      "execution_count": null,
      "metadata": {
        "colab": {
          "base_uri": "https://localhost:8080/"
        },
        "id": "hU90IPpWZm_j",
        "outputId": "6868a0b2-93a4-4709-b601-a0b426c12111"
      },
      "outputs": [
        {
          "output_type": "stream",
          "name": "stdout",
          "text": [
            "Input an integer:\n",
            "12\n",
            "i = 12\n"
          ]
        }
      ],
      "source": [
        "# loop\n",
        "# while condition:\n",
        "#   loop body\n",
        "print(\"Input an integer:\")\n",
        "iStr=input()\n",
        "i=int(iStr)\n",
        "print(f\"i = {i}\") # ctrl c to copy the code"
      ]
    },
    {
      "cell_type": "code",
      "source": [
        "i = 1\n",
        "while i>0: # if i > 0\n",
        "  # loop body\n",
        "  print(\"\\nLoop body repeaded one more time\")\n",
        "  print(f\"{i} > 0\")\n",
        "  print(\"Input an integer:\")\n",
        "  iStr=input()\n",
        "  i=int(iStr)\n",
        "  print(f\"i = {i}\\n\")\n",
        "\n",
        "print(\"This is the next line of the loop\")\n",
        "print(f\"i = {i}\")"
      ],
      "metadata": {
        "colab": {
          "base_uri": "https://localhost:8080/"
        },
        "id": "BqwliuaqZ9uc",
        "outputId": "dc5be394-9676-4356-e9bf-55438961d339"
      },
      "execution_count": null,
      "outputs": [
        {
          "output_type": "stream",
          "name": "stdout",
          "text": [
            "\n",
            "Loop body repeaded one more time\n",
            "1 > 0\n",
            "Input an integer:\n",
            "2\n",
            "i = 2\n",
            "\n",
            "\n",
            "Loop body repeaded one more time\n",
            "2 > 0\n",
            "Input an integer:\n",
            "3\n",
            "i = 3\n",
            "\n",
            "\n",
            "Loop body repeaded one more time\n",
            "3 > 0\n",
            "Input an integer:\n",
            "-1\n",
            "i = -1\n",
            "\n",
            "This is the next line of the loop\n",
            "i = -1\n"
          ]
        }
      ]
    },
    {
      "cell_type": "code",
      "source": [
        "# list (colletion)\n",
        "# warehouse list: complex\n",
        "# []\n",
        "a=[6,10,12] # walls of warehouse\n",
        "#  0 1  2\n",
        "print(a)\n",
        "\n",
        "print(a[1])\n"
      ],
      "metadata": {
        "colab": {
          "base_uri": "https://localhost:8080/"
        },
        "id": "WHh2ZOcdgd8Z",
        "outputId": "69e84a50-4618-4c87-9b60-0926fef9be8a"
      },
      "execution_count": null,
      "outputs": [
        {
          "output_type": "stream",
          "name": "stdout",
          "text": [
            "[6, 10, 12]\n",
            "10\n"
          ]
        }
      ]
    },
    {
      "cell_type": "code",
      "source": [
        "# range() start,end,step\n",
        "#\n",
        "r=range(1,9,2) # 1 3 5 7 X9?\n",
        "print(r)\n",
        "\n",
        "a=list(r)\n",
        "print(a)\n",
        "\n",
        "r=range(10) # 0,10,1 0 1 2 ... 9 X10\n",
        "a=list(r)\n",
        "print(r)\n",
        "print(a)"
      ],
      "metadata": {
        "colab": {
          "base_uri": "https://localhost:8080/"
        },
        "id": "-uf4vuJhhz8y",
        "outputId": "86aae387-011d-46be-921e-22442155b8b5"
      },
      "execution_count": null,
      "outputs": [
        {
          "output_type": "stream",
          "name": "stdout",
          "text": [
            "range(1, 9, 2)\n",
            "[1, 3, 5, 7]\n",
            "range(0, 10)\n",
            "[0, 1, 2, 3, 4, 5, 6, 7, 8, 9]\n"
          ]
        }
      ]
    },
    {
      "cell_type": "code",
      "source": [
        "# for loop\n",
        "a=[3,6,10,12]\n",
        "\n",
        "for i in a:# i=3 i=6 i=10\n",
        "  print(\"\\nLoop body\")\n",
        "  print(\"one loop iteration\")\n",
        "  print(i)\n",
        "\n",
        "print(\"\\n next line of the loop\")"
      ],
      "metadata": {
        "colab": {
          "base_uri": "https://localhost:8080/"
        },
        "id": "nkwrX2mci6hJ",
        "outputId": "821bfebb-798c-4445-ed20-010a37a6d746"
      },
      "execution_count": null,
      "outputs": [
        {
          "output_type": "stream",
          "name": "stdout",
          "text": [
            "\n",
            "Loop body\n",
            "one loop iteration\n",
            "3\n",
            "\n",
            "Loop body\n",
            "one loop iteration\n",
            "6\n",
            "\n",
            "Loop body\n",
            "one loop iteration\n",
            "10\n",
            "\n",
            "Loop body\n",
            "one loop iteration\n",
            "12\n",
            "\n",
            " next line of the loop\n"
          ]
        }
      ]
    },
    {
      "cell_type": "code",
      "source": [
        "# break: stop the loop\n",
        "# continue: skip the rest, go to next iteration"
      ],
      "metadata": {
        "id": "yWq7Wq98kR8P"
      },
      "execution_count": null,
      "outputs": []
    },
    {
      "cell_type": "code",
      "source": [
        "\n",
        "for item in range(20):\n",
        "  if item==2:\n",
        "    break# stop the loop\n",
        "  print(\"\\nLoop body\")\n",
        "  print(item)\n",
        "\n",
        "print(\"\\n\\nnext line of the loop\")"
      ],
      "metadata": {
        "colab": {
          "base_uri": "https://localhost:8080/"
        },
        "id": "o4T8GvU-kbaf",
        "outputId": "8cc64430-595d-4213-bb71-f889822abdb2"
      },
      "execution_count": null,
      "outputs": [
        {
          "output_type": "stream",
          "name": "stdout",
          "text": [
            "\n",
            "Loop body\n",
            "0\n",
            "\n",
            "Loop body\n",
            "1\n",
            "\n",
            "\n",
            "next line of the loop\n"
          ]
        }
      ]
    },
    {
      "cell_type": "code",
      "source": [
        "for item in range(20):\n",
        "  if item==2:\n",
        "    continue# skip rest of the loop body\n",
        "    # go to next iteration\n",
        "  print(\"\\nLoop body\")\n",
        "  print(item)\n",
        "\n",
        "print(\"\\n\\nnext line of the loop\")"
      ],
      "metadata": {
        "colab": {
          "base_uri": "https://localhost:8080/"
        },
        "id": "g9w8rRqWlke2",
        "outputId": "726a4ebd-c1ee-48d3-afff-5873c0ca6900"
      },
      "execution_count": null,
      "outputs": [
        {
          "output_type": "stream",
          "name": "stdout",
          "text": [
            "\n",
            "Loop body\n",
            "0\n",
            "\n",
            "Loop body\n",
            "1\n",
            "\n",
            "Loop body\n",
            "3\n",
            "\n",
            "Loop body\n",
            "4\n",
            "\n",
            "Loop body\n",
            "5\n",
            "\n",
            "Loop body\n",
            "6\n",
            "\n",
            "Loop body\n",
            "7\n",
            "\n",
            "Loop body\n",
            "8\n",
            "\n",
            "Loop body\n",
            "9\n",
            "\n",
            "Loop body\n",
            "10\n",
            "\n",
            "Loop body\n",
            "11\n",
            "\n",
            "Loop body\n",
            "12\n",
            "\n",
            "Loop body\n",
            "13\n",
            "\n",
            "Loop body\n",
            "14\n",
            "\n",
            "Loop body\n",
            "15\n",
            "\n",
            "Loop body\n",
            "16\n",
            "\n",
            "Loop body\n",
            "17\n",
            "\n",
            "Loop body\n",
            "18\n",
            "\n",
            "Loop body\n",
            "19\n",
            "\n",
            "\n",
            "next line of the loop\n"
          ]
        }
      ]
    },
    {
      "cell_type": "code",
      "source": [
        "# while loop\n",
        "\n",
        "i=10\n",
        "\n",
        "while i!=10:\n",
        "  print(\"\\nLoop body\")\n",
        "  print(f\"i={i}\")\n",
        "\n",
        "print(\"\\n\\n Next line of the loop\")\n"
      ],
      "metadata": {
        "colab": {
          "base_uri": "https://localhost:8080/"
        },
        "id": "4saeSrsGkmHY",
        "outputId": "c070c950-917a-4f21-9f41-ebd609871091"
      },
      "execution_count": null,
      "outputs": [
        {
          "output_type": "stream",
          "name": "stdout",
          "text": [
            "\n",
            "\n",
            " Next line of the loop\n"
          ]
        }
      ]
    },
    {
      "cell_type": "code",
      "source": [
        "i=3\n",
        "\n",
        "while i!=10:\n",
        "  print(\"\\nLoop body\")\n",
        "  print(f\"i={i}\")\n",
        "  print(\"Input i:\")\n",
        "  istr=input()\n",
        "  i=int(istr)\n",
        "\n",
        "print(\"\\n\\n Next line of the loop\")"
      ],
      "metadata": {
        "colab": {
          "base_uri": "https://localhost:8080/"
        },
        "id": "eVCaHVqAnHPn",
        "outputId": "6734b15b-bf99-4c09-aab2-428045e6bec3"
      },
      "execution_count": null,
      "outputs": [
        {
          "output_type": "stream",
          "name": "stdout",
          "text": [
            "\n",
            "Loop body\n",
            "i=3\n",
            "Input i:\n",
            "4\n",
            "\n",
            "Loop body\n",
            "i=4\n",
            "Input i:\n",
            "5\n",
            "\n",
            "Loop body\n",
            "i=5\n",
            "Input i:\n",
            "10\n",
            "\n",
            "\n",
            " Next line of the loop\n"
          ]
        }
      ]
    },
    {
      "cell_type": "code",
      "source": [
        "# infinite loop\n",
        "\n",
        "while True:\n",
        "  print(\"\\nLoop body\")\n",
        "  print(\"Input a number:\")\n",
        "  istr=input()\n",
        "  i=int(istr)\n",
        "\n",
        "  if i==3:\n",
        "    break\n",
        "\n",
        "print(\"\\n\\n next line of loop\")"
      ],
      "metadata": {
        "colab": {
          "base_uri": "https://localhost:8080/"
        },
        "id": "N-V4VbVvoF1H",
        "outputId": "f943cd67-e286-4ca5-dfab-5084c72820de"
      },
      "execution_count": null,
      "outputs": [
        {
          "output_type": "stream",
          "name": "stdout",
          "text": [
            "\n",
            "Loop body\n",
            "Input a number:\n",
            "9\n",
            "\n",
            "Loop body\n",
            "Input a number:\n",
            "8\n",
            "\n",
            "Loop body\n",
            "Input a number:\n",
            "3\n",
            "\n",
            "\n",
            " next line of loop\n"
          ]
        }
      ]
    },
    {
      "cell_type": "code",
      "source": [
        "# number guessing\n",
        "\n",
        "import random\n",
        "\n",
        "gt=random.randint(1,6) # 1-5\n",
        "\n",
        "f=0 # final points\n",
        "\n",
        "while True:\n",
        "  print(\"\\n\\n Input a number between 1 and 5:\")\n",
        "  istr=input()\n",
        "  i=int(istr)\n",
        "\n",
        "  if i==gt:\n",
        "    print(\"\\n Congrats! \\n Correct! \\n Gain 5 points!\")\n",
        "    f=f+5 #\n",
        "    break\n",
        "  else:\n",
        "    print(\"\\n Sorry! \\n Wrong! \\n Lose 1 point!\")\n",
        "    f=f-1\n",
        "\n",
        "print(\"\\n\\n Next line of the loop\")\n",
        "print(f\"\\n Final points: {f}\")\n",
        "\n",
        "\n",
        "\n"
      ],
      "metadata": {
        "colab": {
          "base_uri": "https://localhost:8080/"
        },
        "id": "p-_nlLVppwA3",
        "outputId": "3a16182c-93ef-4e89-d739-ca0ed96261f0"
      },
      "execution_count": null,
      "outputs": [
        {
          "output_type": "stream",
          "name": "stdout",
          "text": [
            "\n",
            "\n",
            " Input a number between 1 and 5:\n",
            "1\n",
            "\n",
            " Sorry! \n",
            " Wrong! \n",
            " Lose 1 point!\n",
            "\n",
            "\n",
            " Input a number between 1 and 5:\n",
            "2\n",
            "\n",
            " Sorry! \n",
            " Wrong! \n",
            " Lose 1 point!\n",
            "\n",
            "\n",
            " Input a number between 1 and 5:\n",
            "3\n",
            "\n",
            " Sorry! \n",
            " Wrong! \n",
            " Lose 1 point!\n",
            "\n",
            "\n",
            " Input a number between 1 and 5:\n",
            "4\n",
            "\n",
            " Sorry! \n",
            " Wrong! \n",
            " Lose 1 point!\n",
            "\n",
            "\n",
            " Input a number between 1 and 5:\n",
            "5\n",
            "\n",
            " Congrats! \n",
            " Correct! \n",
            " Gain 5 points!\n",
            "\n",
            "\n",
            " Next line of the loop\n",
            "\n",
            " Final points: 1\n"
          ]
        }
      ]
    }
  ]
}