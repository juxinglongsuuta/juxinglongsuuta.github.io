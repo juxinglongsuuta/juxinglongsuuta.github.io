{
  "nbformat": 4,
  "nbformat_minor": 0,
  "metadata": {
    "colab": {
      "provenance": []
    },
    "kernelspec": {
      "name": "python3",
      "display_name": "Python 3"
    },
    "language_info": {
      "name": "python"
    }
  },
  "cells": [
    {
      "cell_type": "code",
      "execution_count": null,
      "metadata": {
        "id": "Xt7FmXqMmWzb"
      },
      "outputs": [],
      "source": [
        "# Xinglong Ju\n",
        "# T101121\n",
        "\n",
        "# Python Programming Language\n",
        "# Commands to computer (control)\n",
        "#\n",
        "# Languages\n",
        "# English\n",
        "# Spanish\n",
        "# Chinese\n",
        "# French\n",
        "# Hindi\n",
        "# grammar syntax\n",
        "\n",
        "# Python Language\n",
        "# Programming Languages\n",
        "# C++ Java C# R Ruby\n",
        "#\n",
        "\n",
        "# History\n",
        "# War II\n",
        "# First Computer\n",
        "# US Pen\n",
        "# 194X\n",
        "# Calculation\n",
        "# Calculator\n",
        "\n",
        "# Programming Language\n",
        "# B (Bacics or Beginner)\n",
        "# C ()\n",
        "# C++ ()\n",
        "# C++++ # C# (Microsoft)\n",
        "# F#\n",
        "\n",
        "# C# vs Java (199X)\n",
        "# Java (SUN) => Oracle\n",
        "# Java  vs JavaScript () (LiveScript)\n",
        "\n",
        "# Python\n",
        "\n",
        "#"
      ]
    },
    {
      "cell_type": "code",
      "source": [
        "# Python\n",
        "# Grammar (Syntax)\n",
        "#\n",
        "# Syntax\n",
        "# 1. Commands: Code (Statement) executable\n",
        "# 2. Comments:\n",
        "\n",
        "# Comment\n",
        "# Comment\n",
        "print(3**4) # ** raise to the power\n",
        "# Console"
      ],
      "metadata": {
        "colab": {
          "base_uri": "https://localhost:8080/"
        },
        "id": "XD2xxJx_rljn",
        "outputId": "24a24abd-6efc-4f9e-a7f2-047e96cd60c3"
      },
      "execution_count": null,
      "outputs": [
        {
          "output_type": "stream",
          "name": "stdout",
          "text": [
            "81\n"
          ]
        }
      ]
    },
    {
      "cell_type": "code",
      "source": [
        "# Python 3 hard topics\n",
        "# 1. assignment\n",
        "# 2. function\n",
        "# 3. simple vs complex varialbe (resources)\n",
        "\n",
        "# Two resources\n",
        "# 1. CPU (Calculation)\n",
        "# 2. RAM (Memory) Data\n",
        "\n",
        "# RAM vs Hard drive\n",
        "# RAM (16GB 32GB)\n",
        "# Speed\n",
        "# RAM 1000X than Hard drive"
      ],
      "metadata": {
        "id": "wTeeFm3staJZ"
      },
      "execution_count": null,
      "outputs": []
    }
  ]
}