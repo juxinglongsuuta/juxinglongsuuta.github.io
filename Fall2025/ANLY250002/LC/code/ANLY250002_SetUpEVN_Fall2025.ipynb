{
  "nbformat": 4,
  "nbformat_minor": 0,
  "metadata": {
    "colab": {
      "provenance": []
    },
    "kernelspec": {
      "name": "python3",
      "display_name": "Python 3"
    },
    "language_info": {
      "name": "python"
    }
  },
  "cells": [
    {
      "cell_type": "code",
      "execution_count": null,
      "metadata": {
        "colab": {
          "base_uri": "https://localhost:8080/"
        },
        "id": "rQ57Vh37ZRfs",
        "outputId": "eb9439a9-baca-4e53-910d-570411ee6d65"
      },
      "outputs": [
        {
          "output_type": "stream",
          "name": "stdout",
          "text": [
            "Welcome to ANLY 2500\n",
            "36\n"
          ]
        }
      ],
      "source": [
        "print(\"Welcome to ANLY 2500\")\n",
        "\n",
        "print(6**2)"
      ]
    }
  ]
}