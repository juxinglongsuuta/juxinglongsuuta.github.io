{
  "nbformat": 4,
  "nbformat_minor": 0,
  "metadata": {
    "colab": {
      "provenance": []
    },
    "kernelspec": {
      "name": "python3",
      "display_name": "Python 3"
    },
    "language_info": {
      "name": "python"
    }
  },
  "cells": [
    {
      "cell_type": "code",
      "execution_count": null,
      "metadata": {
        "colab": {
          "base_uri": "https://localhost:8080/"
        },
        "id": "5SH8JPwfGL2X",
        "outputId": "20215ae3-57e1-4db2-b170-87b0efb9c6a7"
      },
      "outputs": [
        {
          "output_type": "stream",
          "name": "stdout",
          "text": [
            "Please input your name:\n",
            "Xinglong\n",
            "Please input your grade:\n",
            "90\n",
            "The name is: Xinglong. The new grade: 99.00\n"
          ]
        }
      ],
      "source": [
        "print(\"Please input your name:\")\n",
        "nStr=input()\n",
        "\n",
        "print(\"Please input your grade:\")\n",
        "gStr=input()\n",
        "\n",
        "gDbl=float(gStr)\n",
        "\n",
        "# increase the grade by 10%\n",
        "newGDbl=gDbl*1.1\n",
        "#print(gDbl)\n",
        "\n",
        "inforStr=f\"The name is: {nStr}. The new grade: {newGDbl:.2f}\"\n",
        "print(inforStr)"
      ]
    },
    {
      "cell_type": "code",
      "source": [
        "# assignment\n",
        "# function\n",
        "# simple vs complex\n",
        "\n",
        "# programming commands\n",
        "#\n",
        "\n",
        "# comments vs codes (statement)\n",
        "#\n",
        "# variable (hotel room card)\n",
        "# 1. letter number _\n",
        "# 2. First char:\n",
        "    # letter or _\n",
        "    # NOT a number\n",
        "\n",
        "# two resources\n",
        "# CPU: calculation\n",
        "# RAM: store data (Hard drive, slow)\n",
        "\n",
        "# data types (room types)\n",
        "# 1. integer number whole 4B simple\n",
        "# 2. float/double number 8B simple\n",
        "# 3. boolean: True False 1B simple\n",
        "# 4. string: \"\" '' ''' '''  \"\"\"  \"\"\"\n",
        "# \"\" # 0B\n",
        "# \"Dog\" 3B\n",
        "\n",
        "# operators\n",
        "# = assignment operator\n",
        "# arithmetic operartor: + - * ** / // % numbers\n",
        "\n",
        "# function vs function call\n",
        "# print\n",
        "# input\n",
        "# input() produce a string\n",
        "# int(\"12\") # integer\n",
        "# float(\"12.3\") # float\n",
        "# str(12.3) # string\n",
        "# f\"\" string\n"
      ],
      "metadata": {
        "id": "HyrgatxcYEBe"
      },
      "execution_count": null,
      "outputs": []
    },
    {
      "cell_type": "code",
      "source": [
        "# f\"\" string\n",
        "# f\"{:.2f} {:.3%}\"\n",
        "#:.2f decimal point 2 digit fixed\n",
        "#:.3% percentage\n",
        "# \\n: next line, new line \\t\n",
        "g = 96.6+1 # assginment\n",
        "# Two steps:\n",
        "# Step 1:\n",
        "# Step 2: Write the address into a varialbe\n",
        "i=0.056 # assignment\n",
        "#\n",
        "infStr=f\"Grade: {g:.3f}\\n    \\t Interest rate: {i:.2%}\" #\n",
        "print(infStr)\n",
        "# console terminal"
      ],
      "metadata": {
        "colab": {
          "base_uri": "https://localhost:8080/"
        },
        "id": "xCSQ6NGIdjli",
        "outputId": "fca05dfc-0468-4c87-9e73-6cd08d423542"
      },
      "execution_count": null,
      "outputs": [
        {
          "output_type": "stream",
          "name": "stdout",
          "text": [
            "Grade: 97.600\n",
            "    \t Interest rate: 5.60%\n"
          ]
        }
      ]
    },
    {
      "cell_type": "code",
      "source": [
        "print(\"Input the hours:\")\n",
        "hStr = input() # string\n",
        "hDbl=float(hStr)"
      ],
      "metadata": {
        "colab": {
          "base_uri": "https://localhost:8080/"
        },
        "id": "cUh4MdvxhmD6",
        "outputId": "e9902107-560c-44c9-8e0a-b5d7e746963b"
      },
      "execution_count": null,
      "outputs": [
        {
          "name": "stdout",
          "output_type": "stream",
          "text": [
            "Input the hours:\n",
            "12.6\n"
          ]
        }
      ]
    }
  ]
}