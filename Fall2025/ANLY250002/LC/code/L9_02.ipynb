{
  "nbformat": 4,
  "nbformat_minor": 0,
  "metadata": {
    "colab": {
      "provenance": []
    },
    "kernelspec": {
      "name": "python3",
      "display_name": "Python 3"
    },
    "language_info": {
      "name": "python"
    }
  },
  "cells": [
    {
      "cell_type": "code",
      "execution_count": null,
      "metadata": {
        "colab": {
          "base_uri": "https://localhost:8080/"
        },
        "id": "cJEOglf5uzVj",
        "outputId": "f4297dc0-1a62-4ec6-8942-cd394662ee14"
      },
      "outputs": [
        {
          "output_type": "stream",
          "name": "stdout",
          "text": [
            "Are you a member of the store? (Yes/No)\n",
            "Yes\n",
            "Input the purchase amount:\n",
            "65.6\n",
            "Congrats!\n",
            "You are a member of the store and the purchase amount is $65.60.\n",
            "You get 10% discount\n"
          ]
        }
      ],
      "source": [
        "print(\"Are you a member of the store? (Yes/No)\")\n",
        "isMStr = input()\n",
        "\n",
        "print(\"Input the purchase amount:\")\n",
        "pAmtStr=input()\n",
        "pAmtDbl=float(pAmtStr)\n",
        "\n",
        "if isMStr==\"Yes\" and pAmtDbl>50.0:\n",
        "  infStr=f\"Congrats!\\nYou are a member of the store and the purchase amount is ${pAmtDbl:.2f}.\\nYou get 10% discount\"\n",
        "  print(infStr)\n",
        "else:\n",
        "  print(\"Sorry!\\nYou do not get the 10% discount!\")"
      ]
    },
    {
      "cell_type": "code",
      "source": [
        "# operator precedence (order)\n",
        "print(2+3*4)\n",
        "# 14\n",
        "# 20"
      ],
      "metadata": {
        "id": "HpzwhUvyvd7Q"
      },
      "execution_count": null,
      "outputs": []
    },
    {
      "cell_type": "code",
      "source": [
        "# weight loss practice\n",
        "\n",
        "# define variables\n",
        "M=0 # month 1, 2, 3, ...\n",
        "nStr=\"\" # name string\n",
        "cW=0.0 # current weight lbs, w at month 0, original w\n",
        "p=0.0 # loss percentage\n",
        "gW=0.0 # goal weight\n",
        "nW=0.0 # new weight after each month\n",
        "\n",
        "#\n",
        "print(\"Input name:\")\n",
        "nStr=input()# string store into RAM\n",
        "\n",
        "#\n",
        "print(\"Current weight: (lbs)\")\n",
        "cWStr=input() #string current weight string\n",
        "cW=float(cWStr) # float into RAM\n",
        "#\n",
        "nW = cW #\n",
        "\n",
        "#\n",
        "print(\"Loss percent:\")\n",
        "pStr=input() # string percent\n",
        "p=float(pStr) #\n",
        "\n",
        "#\n",
        "print(\"Weight goal: (lbs)\")\n",
        "gWStr=input() # goal string\n",
        "gW=float(gWStr)\n",
        "\n",
        "#\n",
        "print(\"\\n\\n\")\n",
        "\n",
        "iStr=f\"Name: {nStr}\"\n",
        "print(iStr)\n",
        "\n",
        "iStr=f\"Current weight: {cW:.2f} lbs\"\n",
        "print(iStr)\n",
        "\n",
        "iStr=f\"Goal: {gW:.2f} lbs\"\n",
        "print(iStr)\n",
        "\n",
        "iStr=f\"Loss percent: {p:.2%}\"\n",
        "print(iStr)\n",
        "\n",
        "# month 1\n",
        "loss = nW*p # lbs lost\n",
        "nW=nW-loss # new w after month 1\n",
        "\n",
        "iStr=f\"Lose {loss:.2f} lbs in month 1\"\n",
        "print(iStr)\n",
        "iStr=f\"New weight: {nW:.2f} lbs\"\n",
        "print(iStr)\n",
        "\n",
        "# month 2\n",
        "loss = nW*p # lbs lost\n",
        "nW=nW-loss # new w after month 2\n",
        "\n",
        "iStr=f\"Lose {loss:.2f} lbs in month 2\"\n",
        "print(iStr)\n",
        "iStr=f\"New weight: {nW:.2f} lbs\"\n",
        "print(iStr)\n",
        "\n",
        "# month 3\n",
        "loss = nW*p # lbs lost\n",
        "nW=nW-loss # new w after month 3\n",
        "\n",
        "iStr=f\"Lose {loss:.2f} lbs in month 3\"\n",
        "print(iStr)\n",
        "iStr=f\"New weight: {nW:.2f} lbs\"\n",
        "print(iStr)\n",
        "\n",
        "if nW<=gW:\n",
        "  print(\"Congrats!\")\n",
        "  print(f\"Beat {gW-nW:.2f} lbs\")\n",
        "else:\n",
        "  print(\"Goal not achieved!\")\n",
        "  print(f\"Miss by {nW-gW:.2f} lbs\")\n"
      ],
      "metadata": {
        "colab": {
          "base_uri": "https://localhost:8080/"
        },
        "id": "-Ch4XwpfwQ67",
        "outputId": "b3e60ef5-a59c-49b8-aaa5-dd34e299acfe"
      },
      "execution_count": null,
      "outputs": [
        {
          "output_type": "stream",
          "name": "stdout",
          "text": [
            "Input name:\n",
            "AJ\n",
            "Current weight: (lbs)\n",
            "100\n",
            "Loss percent:\n",
            "0.1\n",
            "Weight goal: (lbs)\n",
            "80\n",
            "\n",
            "\n",
            "\n",
            "Name: AJ\n",
            "Current weight: 100.00 lbs\n",
            "Goal: 80.00 lbs\n",
            "Loss percent: 10.00%\n",
            "Lose 10.00 lbs in month 1\n",
            "New weight: 90.00 lbs\n",
            "Lose 9.00 lbs in month 2\n",
            "New weight: 81.00 lbs\n",
            "Lose 8.10 lbs in month 3\n",
            "New weight: 72.90 lbs\n",
            "Congrats!\n",
            "Beat 7.10 lbs\n"
          ]
        }
      ]
    }
  ]
}