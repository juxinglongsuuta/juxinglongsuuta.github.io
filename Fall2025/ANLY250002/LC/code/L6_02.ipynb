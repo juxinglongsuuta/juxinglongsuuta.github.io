{
  "nbformat": 4,
  "nbformat_minor": 0,
  "metadata": {
    "colab": {
      "provenance": []
    },
    "kernelspec": {
      "name": "python3",
      "display_name": "Python 3"
    },
    "language_info": {
      "name": "python"
    }
  },
  "cells": [
    {
      "cell_type": "code",
      "execution_count": null,
      "metadata": {
        "colab": {
          "base_uri": "https://localhost:8080/"
        },
        "id": "EZaDp5PQZ5Hv",
        "outputId": "f10f695b-5ded-4262-9504-8a597903e834"
      },
      "outputs": [
        {
          "output_type": "stream",
          "name": "stdout",
          "text": [
            "Input your current salary: \n",
            "90000\n",
            "The current salary is not greater than 100K\n",
            "The new salary is: $99000.00\n"
          ]
        }
      ],
      "source": [
        "# if else statement\n",
        "# your name and student id here\n",
        "print(\"Input your current salary: \")\n",
        "salStr=input() # string\n",
        "\n",
        "salDbl=float(salStr) # convert into float/double\n",
        "\n",
        "nSalDbl= salDbl*1.1 # salary increased by 10%\n",
        "\n",
        "if salDbl>100000:\n",
        "  print(\"The current salary is greater than 100K\")\n",
        "else:\n",
        "  print(\"The current salary is not greater than 100K\")\n",
        "\n",
        "inforStr=f\"The new salary is: ${nSalDbl:.2f}\"# in RAM\n",
        "print(inforStr)"
      ]
    },
    {
      "cell_type": "code",
      "source": [
        "# assignment\n",
        "# counter or accumulator assignment\n",
        "\n",
        "\n",
        "#\n",
        "# conditional stsatment\n",
        "# loop"
      ],
      "metadata": {
        "id": "mdxQg8djqfsd"
      },
      "execution_count": null,
      "outputs": []
    },
    {
      "cell_type": "code",
      "source": [
        "#\n",
        "b=0.0 # assignment\n",
        "# Two steps\n",
        "# Step 1: store data into the RAM, float, 8B\n",
        "# Step 2: room card, variable\n",
        "# simple vs complex\n",
        "# int float boolean"
      ],
      "metadata": {
        "id": "jfyflG4frMyw"
      },
      "execution_count": null,
      "outputs": []
    },
    {
      "cell_type": "code",
      "source": [
        "b=b+10.5 # assignment\n",
        "#  two steps\n",
        "# Step 1: b+10.5=> 10.5 float 8B=> 10.5\n",
        "# Step 2:"
      ],
      "metadata": {
        "id": "yPQnakrUsa4Q"
      },
      "execution_count": null,
      "outputs": []
    },
    {
      "cell_type": "code",
      "source": [
        "# b RAM\n",
        "print(b)"
      ],
      "metadata": {
        "colab": {
          "base_uri": "https://localhost:8080/"
        },
        "id": "E2_kR_fPuXX4",
        "outputId": "b1dded99-aeae-4e89-eccc-bfa2914a2a73"
      },
      "execution_count": null,
      "outputs": [
        {
          "output_type": "stream",
          "name": "stdout",
          "text": [
            "10.5\n"
          ]
        }
      ]
    },
    {
      "cell_type": "code",
      "source": [
        "b=b+3 # assignment counter\n",
        "# two steps:\n",
        "# step 1: 13.5 => float 8B => store into RAM\n",
        "print(b)"
      ],
      "metadata": {
        "colab": {
          "base_uri": "https://localhost:8080/"
        },
        "id": "n__6XnKouxZ4",
        "outputId": "34b3e498-d21c-4814-f87c-5dc5856a7c50"
      },
      "execution_count": null,
      "outputs": [
        {
          "output_type": "stream",
          "name": "stdout",
          "text": [
            "19.5\n"
          ]
        }
      ]
    },
    {
      "cell_type": "code",
      "source": [
        "b=b-2# assignment, counter\n",
        "# two steps\n",
        "# step 1:19.5-2=17.5=>float 8B=> store into RAM\n",
        "print(b)"
      ],
      "metadata": {
        "colab": {
          "base_uri": "https://localhost:8080/"
        },
        "id": "QsY4CDA1wNa2",
        "outputId": "155111bb-ab32-4276-8e09-3cdbc5d41cb6"
      },
      "execution_count": null,
      "outputs": [
        {
          "output_type": "stream",
          "name": "stdout",
          "text": [
            "13.5\n"
          ]
        }
      ]
    },
    {
      "cell_type": "code",
      "source": [
        "# hourly paid job\n",
        "# 3 weeks, how many days each weeks, how many hours\n",
        "# define counter variables\n",
        "nTW=0 # number of total weeks\n",
        "nTD=0 # total number of days\n",
        "nTH=0 # total number of hours\n",
        "\n",
        "r = 16.0 # pay rate\n",
        "\n",
        "# Week 1\n",
        "nTW=nTW+1 #\n",
        "infStr=f\"Input days in Week {nTW}:\"\n",
        "print(infStr)\n",
        "dStr=input()\n",
        "dDbl=float(dStr)\n",
        "\n",
        "nTD=nTD+dDbl\n",
        "\n",
        "infStr=f\"After {nTW} weeks, I worked {nTD} days.\"\n",
        "print(infStr)\n",
        "\n",
        "# Week 1\n",
        "nTW=nTW+1 #\n",
        "infStr=f\"Input days in Week {nTW}:\"\n",
        "print(infStr)\n",
        "dStr=input()\n",
        "dDbl=float(dStr)\n",
        "\n",
        "nTD=nTD+dDbl\n",
        "\n",
        "infStr=f\"After {nTW} weeks, I worked {nTD} days.\"\n",
        "print(infStr)\n",
        "\n",
        "# Week 1\n",
        "nTW=nTW+1 #\n",
        "infStr=f\"Input days in Week {nTW}:\"\n",
        "print(infStr)\n",
        "dStr=input()\n",
        "dDbl=float(dStr)\n",
        "\n",
        "nTD=nTD+dDbl\n",
        "\n",
        "infStr=f\"After {nTW} weeks, I worked {nTD} days.\"\n",
        "print(infStr)"
      ],
      "metadata": {
        "colab": {
          "base_uri": "https://localhost:8080/"
        },
        "id": "jLgeqv_YxtT9",
        "outputId": "5bfbc5fe-26a7-4142-9f7b-92f6fc04d710"
      },
      "execution_count": null,
      "outputs": [
        {
          "output_type": "stream",
          "name": "stdout",
          "text": [
            "Input days in Week 1:\n",
            "2.2\n",
            "After 1 weeks, I worked 2.2 days.\n",
            "Input days in Week 2:\n",
            "3.0\n",
            "After 2 weeks, I worked 5.2 days.\n",
            "Input days in Week 3:\n",
            "5.0\n",
            "After 3 weeks, I worked 10.2 days.\n"
          ]
        }
      ]
    }
  ]
}