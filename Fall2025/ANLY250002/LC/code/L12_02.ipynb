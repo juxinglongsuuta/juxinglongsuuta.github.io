{
  "nbformat": 4,
  "nbformat_minor": 0,
  "metadata": {
    "colab": {
      "provenance": []
    },
    "kernelspec": {
      "name": "python3",
      "display_name": "Python 3"
    },
    "language_info": {
      "name": "python"
    }
  },
  "cells": [
    {
      "cell_type": "code",
      "execution_count": null,
      "metadata": {
        "colab": {
          "base_uri": "https://localhost:8080/"
        },
        "id": "Uu39VW8UVtkm",
        "outputId": "02f9c7d5-0271-4c3a-a307-61a85be902fd"
      },
      "outputs": [
        {
          "output_type": "stream",
          "name": "stdout",
          "text": [
            "I get 3 from list s this time\n",
            "The loop body is excecuted one more time\n",
            "I get 6 from list s this time\n",
            "The loop body is excecuted one more time\n",
            "I get 9 from list s this time\n",
            "The loop body is excecuted one more time\n",
            "I get 12 from list s this time\n",
            "The loop body is excecuted one more time\n"
          ]
        }
      ],
      "source": [
        "# your name and student id here\n",
        "# loop: for loop\n",
        "# what is a loop? Loop is to repeaded doing things.\n",
        "s = [3, 6, 9, 12] # 4 items in list s\n",
        "for i in s:\n",
        "  print(f\"I get {i} from list s this time\") # loop body repeat 4 times\n",
        "  print(\"The loop body is excecuted one more time\")"
      ]
    },
    {
      "cell_type": "code",
      "source": [
        "# loop\n",
        "# if else\n",
        "\n",
        "# assignment i=i+1.2\n",
        "# function\n",
        "# simple vs complex\n",
        "\n",
        "# datatypes\n",
        "# float: number, 1.23 , 8B\n",
        "# integer: whole number, 1 -2, 4B\n",
        "# boolean: True False 1B\n",
        "# string: complex\n",
        "i = 10 + 2 # assignment,\n",
        "print(i)#\n",
        "i=14\n",
        "print(i)"
      ],
      "metadata": {
        "colab": {
          "base_uri": "https://localhost:8080/"
        },
        "id": "AzEihgsfNgwD",
        "outputId": "d8900c59-aa5c-4494-c3f7-ca453ad6ff25"
      },
      "execution_count": null,
      "outputs": [
        {
          "output_type": "stream",
          "name": "stdout",
          "text": [
            "12\n",
            "14\n"
          ]
        }
      ]
    },
    {
      "cell_type": "code",
      "source": [
        "s = \"anly2500\" # string\n",
        "  #  0 1 2 3 .. 7\n",
        "print(s) # 8B\n",
        "# [] indexer operator\n",
        "print(s[1])"
      ],
      "metadata": {
        "colab": {
          "base_uri": "https://localhost:8080/"
        },
        "id": "DI75CL1WQBuY",
        "outputId": "fb8b4e83-053a-4b95-88fd-aa5c4caabcf0"
      },
      "execution_count": null,
      "outputs": [
        {
          "output_type": "stream",
          "name": "stdout",
          "text": [
            "anly2500\n",
            "n\n"
          ]
        }
      ]
    },
    {
      "cell_type": "code",
      "source": [
        "# list => collection\n",
        "# list warehouse\n",
        "w=[3,10,12] # [] walls of warehouse,\n",
        "#  0 1  2\n",
        "print(w)\n",
        "print(w[2])"
      ],
      "metadata": {
        "colab": {
          "base_uri": "https://localhost:8080/"
        },
        "id": "qE8k8U9nSsZG",
        "outputId": "e425333c-6399-45de-afdd-9fafbce70032"
      },
      "execution_count": null,
      "outputs": [
        {
          "output_type": "stream",
          "name": "stdout",
          "text": [
            "[3, 10, 12]\n",
            "12\n"
          ]
        }
      ]
    },
    {
      "cell_type": "code",
      "source": [
        "# range(start,end,step)\n",
        "r=range(1,9,2) #1,3,5,7, #\n",
        "print(r)\n",
        "\n",
        "# int float\n",
        "l=list(r)\n",
        "print(l)"
      ],
      "metadata": {
        "colab": {
          "base_uri": "https://localhost:8080/"
        },
        "id": "tDKBw1czUwGi",
        "outputId": "88d07ce8-2c04-42ea-84a5-d3b63883ba6b"
      },
      "execution_count": null,
      "outputs": [
        {
          "output_type": "stream",
          "name": "stdout",
          "text": [
            "range(1, 9, 2)\n",
            "[1, 3, 5, 7]\n"
          ]
        }
      ]
    },
    {
      "cell_type": "code",
      "source": [
        "# range(start,end,step)\n",
        "r=range(20) #0,1,2,3...,9,, #\n",
        "print(r)\n",
        "\n",
        "# int float\n",
        "l=list(r)\n",
        "print(l)"
      ],
      "metadata": {
        "colab": {
          "base_uri": "https://localhost:8080/"
        },
        "id": "EVz162PgV0lW",
        "outputId": "7b5c97e0-2a69-47a3-be10-3b70e4e6093f"
      },
      "execution_count": null,
      "outputs": [
        {
          "output_type": "stream",
          "name": "stdout",
          "text": [
            "range(0, 20)\n",
            "[0, 1, 2, 3, 4, 5, 6, 7, 8, 9, 10, 11, 12, 13, 14, 15, 16, 17, 18, 19]\n"
          ]
        }
      ]
    },
    {
      "cell_type": "code",
      "source": [
        "# loop for\n",
        "l=[4,8,20] #\n",
        "# 0  1 2\n",
        "for item in l:# item=l[0] item=4 item=8 item=20\n",
        "  print(\"\\nLoop iteration\")\n",
        "  print(item) # loop body"
      ],
      "metadata": {
        "colab": {
          "base_uri": "https://localhost:8080/"
        },
        "id": "u6XW20afWbJJ",
        "outputId": "3d24ed9b-97b6-4cf2-8b50-85006a1f71f1"
      },
      "execution_count": null,
      "outputs": [
        {
          "output_type": "stream",
          "name": "stdout",
          "text": [
            "\n",
            "Loop iteration\n",
            "4\n",
            "\n",
            "Loop iteration\n",
            "8\n",
            "\n",
            "Loop iteration\n",
            "20\n"
          ]
        }
      ]
    },
    {
      "cell_type": "code",
      "source": [
        "for i in range(20):\n",
        "  print(i)\n",
        "  print(\"Hello\")"
      ],
      "metadata": {
        "colab": {
          "base_uri": "https://localhost:8080/"
        },
        "id": "N4T7OpiUYNU-",
        "outputId": "e96bd727-88c7-4ecc-cfac-63b8dbc25c8c"
      },
      "execution_count": null,
      "outputs": [
        {
          "output_type": "stream",
          "name": "stdout",
          "text": [
            "0\n",
            "Hello\n",
            "1\n",
            "Hello\n",
            "2\n",
            "Hello\n",
            "3\n",
            "Hello\n",
            "4\n",
            "Hello\n",
            "5\n",
            "Hello\n",
            "6\n",
            "Hello\n",
            "7\n",
            "Hello\n",
            "8\n",
            "Hello\n",
            "9\n",
            "Hello\n",
            "10\n",
            "Hello\n",
            "11\n",
            "Hello\n",
            "12\n",
            "Hello\n",
            "13\n",
            "Hello\n",
            "14\n",
            "Hello\n",
            "15\n",
            "Hello\n",
            "16\n",
            "Hello\n",
            "17\n",
            "Hello\n",
            "18\n",
            "Hello\n",
            "19\n",
            "Hello\n"
          ]
        }
      ]
    }
  ]
}