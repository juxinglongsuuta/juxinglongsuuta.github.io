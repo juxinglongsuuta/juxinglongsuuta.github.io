{
  "nbformat": 4,
  "nbformat_minor": 0,
  "metadata": {
    "colab": {
      "provenance": []
    },
    "kernelspec": {
      "name": "python3",
      "display_name": "Python 3"
    },
    "language_info": {
      "name": "python"
    }
  },
  "cells": [
    {
      "cell_type": "code",
      "execution_count": null,
      "metadata": {
        "colab": {
          "base_uri": "https://localhost:8080/"
        },
        "id": "X-FEkGB6q4Xe",
        "outputId": "f734bb7f-ea53-448d-d90e-f7cea5bc1746"
      },
      "outputs": [
        {
          "output_type": "stream",
          "name": "stdout",
          "text": [
            "Input the name:\n",
            "Xinglong\n",
            "Input the grade:\n",
            "76.6\n",
            "C\n",
            "Name: Xinglong, Letter Grade: C\n"
          ]
        }
      ],
      "source": [
        "#\n",
        "print(\"Input the name:\")\n",
        "nStr=input()\n",
        "\n",
        "print(\"Input the grade:\")\n",
        "gStr=input()\n",
        "gDbl=float(gStr)\n",
        "\n",
        "# A B C D F\n",
        "lgStr=\"\"\n",
        "if gDbl>=90:\n",
        "  print(\"A\")\n",
        "  lgStr=\"A\"\n",
        "elif gDbl>=80:\n",
        "  print(\"B\")\n",
        "  lgStr=\"B\"\n",
        "elif gDbl>=70:\n",
        "  print(\"C\")\n",
        "  lgStr=\"C\"\n",
        "elif gDbl>=60:\n",
        "  print(\"D\")\n",
        "  lgStr=\"D\"\n",
        "else:\n",
        "  print(\"F\")\n",
        "  lgStr=\"F\"\n",
        "\n",
        "#\n",
        "infStr=f\"Name: {nStr}, Letter Grade: {lgStr}\"\n",
        "print(infStr)"
      ]
    },
    {
      "cell_type": "code",
      "source": [
        "# comparison operators\n",
        "# > < >= <= == !=\n",
        "# boolean (bool) True False\n",
        "#\n",
        "# conditional statement # if else\n",
        "# 3 formats\n",
        "# format 1\n",
        "# las vegas\n",
        "# at least 21\n",
        "print(\"Input age: (int)\")\n",
        "aStr=input() #\n",
        "\n",
        "a=int(aStr)\n",
        "\n",
        "# code vs statement\n",
        "if a>=21:\n",
        "  # block 1 private 1\n",
        "  print(\"Age greater 21\")\n",
        "  print(\"Room entered\")\n",
        "\n",
        "print(\"Next line of if else\")"
      ],
      "metadata": {
        "colab": {
          "base_uri": "https://localhost:8080/"
        },
        "id": "EJMMfyMNasP4",
        "outputId": "e37d7deb-ccbc-47df-8b98-83c49eb52925"
      },
      "execution_count": null,
      "outputs": [
        {
          "output_type": "stream",
          "name": "stdout",
          "text": [
            "Input age: (int)\n",
            "21\n",
            "Age greater 21\n",
            "Room entered\n",
            "Next line of if else\n"
          ]
        }
      ]
    },
    {
      "cell_type": "code",
      "source": [
        "# format 2\n",
        "print(\"Input age: (int)\")\n",
        "aStr=input() #\n",
        "\n",
        "a=int(aStr)\n",
        "\n",
        "# code vs statement\n",
        "if a>=21:\n",
        "  # block 1 private 1\n",
        "  print(\"Age greater 21\")\n",
        "  print(\"Room entered\")\n",
        "else:# otherwise\n",
        "   # block 2 private 2\n",
        "   print(\"Room 2\")\n",
        "   print(\"age < 21\")\n",
        "\n",
        "print(\"Next line of if else\")"
      ],
      "metadata": {
        "colab": {
          "base_uri": "https://localhost:8080/"
        },
        "id": "eMQpxlVNehUl",
        "outputId": "83a313c6-89d0-4cbd-fb5e-c82a78c2d325"
      },
      "execution_count": null,
      "outputs": [
        {
          "output_type": "stream",
          "name": "stdout",
          "text": [
            "Input age: (int)\n",
            "21\n",
            "Age greater 21\n",
            "Room entered\n",
            "Next line of if else\n"
          ]
        }
      ]
    },
    {
      "cell_type": "code",
      "source": [
        "# format 3\n",
        "# in one if else,\n",
        "# at most enter one code block\n",
        "\n",
        "print(\"Input grade:\")\n",
        "gStr=input() # string into RAM\n",
        "\n",
        "g=float(gStr)#\n",
        "\n",
        "if g>=90:\n",
        "  # block 1\n",
        "  print(\"congrats!\")\n",
        "  print(\"A\")\n",
        "elif g>=80:\n",
        "  # block 2\n",
        "  print(\"B\")\n",
        "elif g>=70:\n",
        "  # block 3\n",
        "  print(\"C\")\n",
        "elif g>=60:\n",
        "  # block 4\n",
        "  print(\"D\")\n",
        "else:# otherwise, all previous conditions are false\n",
        "  print(\"F\")\n",
        "\n",
        "print(\"next line of if else\")"
      ],
      "metadata": {
        "colab": {
          "base_uri": "https://localhost:8080/"
        },
        "id": "Mocm1aSZgAxv",
        "outputId": "9e818d6f-0949-4cab-93a2-7c196459a1ae"
      },
      "execution_count": null,
      "outputs": [
        {
          "output_type": "stream",
          "name": "stdout",
          "text": [
            "Input grade:\n",
            "56.6\n",
            "F\n",
            "next line of if else\n"
          ]
        }
      ]
    }
  ]
}