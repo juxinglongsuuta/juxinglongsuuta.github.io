{
  "nbformat": 4,
  "nbformat_minor": 0,
  "metadata": {
    "colab": {
      "provenance": []
    },
    "kernelspec": {
      "name": "python3",
      "display_name": "Python 3"
    },
    "language_info": {
      "name": "python"
    }
  },
  "cells": [
    {
      "cell_type": "code",
      "execution_count": null,
      "metadata": {
        "colab": {
          "base_uri": "https://localhost:8080/"
        },
        "id": "Cq_5zA8nzhA1",
        "outputId": "8b253414-d83c-4940-ab5a-de55eacdbe3d"
      },
      "outputs": [
        {
          "output_type": "stream",
          "name": "stdout",
          "text": [
            "Input your name: \n",
            "Xinglong\n",
            "Input your age:\n",
            "17\n",
            "My name is Xinglong.\n",
            "My age is 17.\n",
            "I am not an adult.\n"
          ]
        }
      ],
      "source": [
        "# if else statement\n",
        "print(\"Input your name: \")\n",
        "nStr=input()\n",
        "\n",
        "print(\"Input your age:\")\n",
        "ageStr=input() #\n",
        "ageInt=int(ageStr)\n",
        "\n",
        "infStr=f\"My name is {nStr}.\\nMy age is {ageInt}.\"\n",
        "print(infStr)\n",
        "\n",
        "# great = 18: adult\n",
        "# less than 18: not adult\n",
        "if ageInt>=18:\n",
        "  print(\"I am an adult.\")\n",
        "else:\n",
        "  print(\"I am not an adult.\")"
      ]
    },
    {
      "cell_type": "code",
      "source": [
        "# len()\n",
        "# comparision operators\n",
        "# conditional statement (code) - if else"
      ],
      "metadata": {
        "id": "Sy2K6_kVHhS5"
      },
      "execution_count": null,
      "outputs": []
    },
    {
      "cell_type": "code",
      "source": [
        "# ipynb: interactive python notebook\n",
        "# py"
      ],
      "metadata": {
        "id": "meLbcC3iHwla"
      },
      "execution_count": null,
      "outputs": []
    },
    {
      "cell_type": "code",
      "source": [
        "# len() count how many chars in side a string\n",
        "s = 'anly2500' # assignment =\n",
        "# RAM\n",
        "print(s)\n",
        "\n",
        "n=len(s) # 4B\n",
        "print(n)"
      ],
      "metadata": {
        "colab": {
          "base_uri": "https://localhost:8080/"
        },
        "id": "cBYoCLZAIJgv",
        "outputId": "f58266dd-6bab-48b8-f6b4-7a6860da71ca"
      },
      "execution_count": null,
      "outputs": [
        {
          "output_type": "stream",
          "name": "stdout",
          "text": [
            "anly2500\n",
            "8\n"
          ]
        }
      ]
    },
    {
      "cell_type": "code",
      "source": [
        "# operators\n",
        "# = assignment operator\n",
        "# + - / * ** // % arithmetic operators int float\n",
        "# datatypes: int float string\n",
        "# boolean: True False 1B\n",
        "# comparison operators\n",
        "# > < >= <= == !="
      ],
      "metadata": {
        "id": "RC_o0vaqKbhs"
      },
      "execution_count": null,
      "outputs": []
    },
    {
      "cell_type": "code",
      "source": [
        "b=True #\n",
        "print(b)"
      ],
      "metadata": {
        "colab": {
          "base_uri": "https://localhost:8080/"
        },
        "id": "1PwOfXBGLvaj",
        "outputId": "a515cea0-86a8-4caf-fbe6-9dfd82c7ddaa"
      },
      "execution_count": null,
      "outputs": [
        {
          "output_type": "stream",
          "name": "stdout",
          "text": [
            "True\n"
          ]
        }
      ]
    },
    {
      "cell_type": "code",
      "source": [
        "b=False\n",
        "print(b)"
      ],
      "metadata": {
        "colab": {
          "base_uri": "https://localhost:8080/"
        },
        "id": "1dscHAcTL1_R",
        "outputId": "3ddd7f96-b3a0-44e6-cbae-4bd40a45eee3"
      },
      "execution_count": null,
      "outputs": [
        {
          "output_type": "stream",
          "name": "stdout",
          "text": [
            "False\n"
          ]
        }
      ]
    },
    {
      "cell_type": "code",
      "source": [
        "r=5>4 #\n",
        "print(r)"
      ],
      "metadata": {
        "colab": {
          "base_uri": "https://localhost:8080/"
        },
        "id": "dkTIBo_4L8M2",
        "outputId": "371857fc-f986-4559-b8ad-ac391c22083e"
      },
      "execution_count": null,
      "outputs": [
        {
          "output_type": "stream",
          "name": "stdout",
          "text": [
            "True\n"
          ]
        }
      ]
    },
    {
      "cell_type": "code",
      "source": [
        "r =5<4 #\n",
        "print(r)"
      ],
      "metadata": {
        "colab": {
          "base_uri": "https://localhost:8080/"
        },
        "id": "lpeH7Dt4Mtqh",
        "outputId": "37a3e140-ede9-4a81-9f79-c9428c01fb26"
      },
      "execution_count": null,
      "outputs": [
        {
          "output_type": "stream",
          "name": "stdout",
          "text": [
            "False\n"
          ]
        }
      ]
    },
    {
      "cell_type": "code",
      "source": [
        "r= 5>=4\n",
        "print(r)"
      ],
      "metadata": {
        "colab": {
          "base_uri": "https://localhost:8080/"
        },
        "id": "3zd9TiWPM919",
        "outputId": "4aaae8d4-046e-439a-c4bf-e2b47eea6c03"
      },
      "execution_count": null,
      "outputs": [
        {
          "output_type": "stream",
          "name": "stdout",
          "text": [
            "True\n"
          ]
        }
      ]
    },
    {
      "cell_type": "code",
      "source": [
        "r = 5<=4 #\n",
        "print(r)"
      ],
      "metadata": {
        "colab": {
          "base_uri": "https://localhost:8080/"
        },
        "id": "PL2p-mxjNNOf",
        "outputId": "b134791d-1668-407f-bac7-f0cf348aa8f9"
      },
      "execution_count": null,
      "outputs": [
        {
          "output_type": "stream",
          "name": "stdout",
          "text": [
            "False\n"
          ]
        }
      ]
    },
    {
      "cell_type": "code",
      "source": [
        "r= 5==4 #\n",
        "print(r)"
      ],
      "metadata": {
        "colab": {
          "base_uri": "https://localhost:8080/"
        },
        "id": "zyQnXlz8Nko0",
        "outputId": "049d9436-1037-4a63-e2a1-a95a100553f7"
      },
      "execution_count": null,
      "outputs": [
        {
          "output_type": "stream",
          "name": "stdout",
          "text": [
            "False\n"
          ]
        }
      ]
    },
    {
      "cell_type": "code",
      "source": [
        "r= 4==4 #\n",
        "print(r)"
      ],
      "metadata": {
        "colab": {
          "base_uri": "https://localhost:8080/"
        },
        "id": "BjsOX7edN2EQ",
        "outputId": "d1635e7f-d336-4d96-906d-b49a20af5e0d"
      },
      "execution_count": null,
      "outputs": [
        {
          "output_type": "stream",
          "name": "stdout",
          "text": [
            "True\n"
          ]
        }
      ]
    },
    {
      "cell_type": "code",
      "source": [
        "r = 5!=4 #\n",
        "print(r)"
      ],
      "metadata": {
        "colab": {
          "base_uri": "https://localhost:8080/"
        },
        "id": "N7pw8xp9OHFF",
        "outputId": "7abcd744-786b-4d8e-8daa-99e0b60bf8a6"
      },
      "execution_count": null,
      "outputs": [
        {
          "output_type": "stream",
          "name": "stdout",
          "text": [
            "True\n"
          ]
        }
      ]
    },
    {
      "cell_type": "code",
      "source": [
        "r= 4!=4\n",
        "print(r)"
      ],
      "metadata": {
        "colab": {
          "base_uri": "https://localhost:8080/"
        },
        "id": "sWxoSUqJObjF",
        "outputId": "149ff7fd-f7f4-4d6f-aa53-728cb8e61842"
      },
      "execution_count": null,
      "outputs": [
        {
          "output_type": "stream",
          "name": "stdout",
          "text": [
            "False\n"
          ]
        }
      ]
    },
    {
      "cell_type": "code",
      "source": [
        "# conditional statement - if else\n",
        "print(\"Line 1\")\n",
        "print(\"Line 2\")\n",
        "\n",
        "print(\"Input the passcode:\")\n",
        "p=input() # string RAM\n",
        "\n",
        "if p==\"p123\":\n",
        "    print(\"Inside line 1\")\n",
        "    print(\"Inside line 2\")\n",
        "# code block. private space (room) with same indents\n",
        "print(\"Line 3\")"
      ],
      "metadata": {
        "colab": {
          "base_uri": "https://localhost:8080/"
        },
        "id": "nkvypw3uOuA8",
        "outputId": "76fc7b6b-460c-4568-e96c-fe8bce1b33e7"
      },
      "execution_count": null,
      "outputs": [
        {
          "output_type": "stream",
          "name": "stdout",
          "text": [
            "Line 1\n",
            "Line 2\n",
            "Input the passcode:\n",
            "p123\n",
            "Inside line 1\n",
            "Inside line 2\n",
            "Line 3\n"
          ]
        }
      ]
    }
  ]
}