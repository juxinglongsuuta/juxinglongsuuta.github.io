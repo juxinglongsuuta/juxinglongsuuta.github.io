{
  "nbformat": 4,
  "nbformat_minor": 0,
  "metadata": {
    "colab": {
      "provenance": []
    },
    "kernelspec": {
      "name": "python3",
      "display_name": "Python 3"
    },
    "language_info": {
      "name": "python"
    }
  },
  "cells": [
    {
      "cell_type": "code",
      "execution_count": null,
      "metadata": {
        "colab": {
          "base_uri": "https://localhost:8080/"
        },
        "id": "Uu39VW8UVtkm",
        "outputId": "02f9c7d5-0271-4c3a-a307-61a85be902fd"
      },
      "outputs": [
        {
          "output_type": "stream",
          "name": "stdout",
          "text": [
            "I get 3 from list s this time\n",
            "The loop body is excecuted one more time\n",
            "I get 6 from list s this time\n",
            "The loop body is excecuted one more time\n",
            "I get 9 from list s this time\n",
            "The loop body is excecuted one more time\n",
            "I get 12 from list s this time\n",
            "The loop body is excecuted one more time\n"
          ]
        }
      ],
      "source": [
        "# your name and student id here\n",
        "# loop: for loop\n",
        "# what is a loop? Loop is to repeaded doing things.\n",
        "s = [3, 6, 9, 12] # 4 items in list s\n",
        "for i in s:\n",
        "  print(f\"I get {i} from list s this time\") # loop body repeat 4 times\n",
        "  print(\"The loop body is excecuted one more time\")"
      ]
    },
    {
      "cell_type": "code",
      "source": [
        "# loop for while\n",
        "# if else statement\n",
        "# i=i+1.2\n",
        "# function\n",
        "# simple vs complex\n",
        "\n",
        "# datatypes:\n",
        "# integer 4B\n",
        "# float (double): 8B\n",
        "# boolean: True for False (1B)\n",
        "# simple: int float boolean\n",
        "# string: \"\" '': complex \"\" \"cool\" \"Hello\"\n",
        "\n",
        "# collection\n",
        "# variable (key, key card, room card)\n",
        "#\n",
        "i = 10+1 # int, simple, 4B\n",
        "print(i) #"
      ],
      "metadata": {
        "colab": {
          "base_uri": "https://localhost:8080/"
        },
        "id": "Qq8l58vf_yb7",
        "outputId": "657d116f-28c5-4480-81dc-390a8515faee"
      },
      "execution_count": null,
      "outputs": [
        {
          "output_type": "stream",
          "name": "stdout",
          "text": [
            "11\n"
          ]
        }
      ]
    },
    {
      "cell_type": "code",
      "source": [
        "s = \"anly2500\" # string, complex\n",
        "print(s)\n",
        "print(s[1])#  rule 0 - 7\n",
        "# s[0] indexer operator"
      ],
      "metadata": {
        "colab": {
          "base_uri": "https://localhost:8080/"
        },
        "id": "qOV75GoYCuOv",
        "outputId": "30204fdf-80f9-4312-d82d-1312fb279c67"
      },
      "execution_count": null,
      "outputs": [
        {
          "output_type": "stream",
          "name": "stdout",
          "text": [
            "anly2500\n",
            "n\n"
          ]
        }
      ]
    },
    {
      "cell_type": "code",
      "source": [
        "# list=> collection\n",
        "w = [3,6,10] # list, storage, warehouse, walls of the warehouse 0 1 2\n",
        "print(w)\n",
        "print(w[2])"
      ],
      "metadata": {
        "colab": {
          "base_uri": "https://localhost:8080/"
        },
        "id": "5VnsVL8tFCs7",
        "outputId": "f1d328ab-c5d1-48cd-93c9-afb49fc952e9"
      },
      "execution_count": null,
      "outputs": [
        {
          "output_type": "stream",
          "name": "stdout",
          "text": [
            "[3, 6, 10]\n",
            "10\n"
          ]
        }
      ]
    },
    {
      "cell_type": "code",
      "source": [
        "# range(start,end,step)\n",
        "r = range(1,9,2) # 1,3,5,7,\n",
        "print(r)\n",
        "\n",
        "r = range(10)\n",
        "\n",
        "l=list(r)\n",
        "print(l)"
      ],
      "metadata": {
        "colab": {
          "base_uri": "https://localhost:8080/"
        },
        "id": "3NvOns_rHNZ6",
        "outputId": "7f5f819d-087e-4438-e8e8-73bb462543e7"
      },
      "execution_count": null,
      "outputs": [
        {
          "output_type": "stream",
          "name": "stdout",
          "text": [
            "range(1, 9, 2)\n",
            "[0, 1, 2, 3, 4, 5, 6, 7, 8, 9]\n"
          ]
        }
      ]
    },
    {
      "cell_type": "code",
      "source": [
        "# loop for loop\n",
        "l = [3,9,10] #\n",
        "    #0 1 2\n",
        "for item in l:\n",
        "  print(\"\\nLoop iteration\")\n",
        "  print(item)"
      ],
      "metadata": {
        "colab": {
          "base_uri": "https://localhost:8080/"
        },
        "id": "g3KKm6GUI0MN",
        "outputId": "299d28e8-7c77-4816-82b8-813d7d684644"
      },
      "execution_count": null,
      "outputs": [
        {
          "output_type": "stream",
          "name": "stdout",
          "text": [
            "\n",
            "Loop iteration\n",
            "3\n",
            "\n",
            "Loop iteration\n",
            "9\n",
            "\n",
            "Loop iteration\n",
            "10\n"
          ]
        }
      ]
    }
  ]
}