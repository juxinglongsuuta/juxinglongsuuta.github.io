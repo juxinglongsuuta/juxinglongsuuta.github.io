{
  "nbformat": 4,
  "nbformat_minor": 0,
  "metadata": {
    "colab": {
      "provenance": []
    },
    "kernelspec": {
      "name": "python3",
      "display_name": "Python 3"
    },
    "language_info": {
      "name": "python"
    }
  },
  "cells": [
    {
      "cell_type": "code",
      "execution_count": null,
      "metadata": {
        "colab": {
          "base_uri": "https://localhost:8080/"
        },
        "id": "X-FEkGB6q4Xe",
        "outputId": "f734bb7f-ea53-448d-d90e-f7cea5bc1746"
      },
      "outputs": [
        {
          "output_type": "stream",
          "name": "stdout",
          "text": [
            "Input the name:\n",
            "Xinglong\n",
            "Input the grade:\n",
            "76.6\n",
            "C\n",
            "Name: Xinglong, Letter Grade: C\n"
          ]
        }
      ],
      "source": [
        "#\n",
        "print(\"Input the name:\")\n",
        "nStr=input()\n",
        "\n",
        "print(\"Input the grade:\")\n",
        "gStr=input()\n",
        "gDbl=float(gStr)\n",
        "\n",
        "# A B C D F\n",
        "lgStr=\"\"\n",
        "if gDbl>=90:\n",
        "  print(\"A\")\n",
        "  lgStr=\"A\"\n",
        "elif gDbl>=80:\n",
        "  print(\"B\")\n",
        "  lgStr=\"B\"\n",
        "elif gDbl>=70:\n",
        "  print(\"C\")\n",
        "  lgStr=\"C\"\n",
        "elif gDbl>=60:\n",
        "  print(\"D\")\n",
        "  lgStr=\"D\"\n",
        "else:\n",
        "  print(\"F\")\n",
        "  lgStr=\"F\"\n",
        "\n",
        "#\n",
        "infStr=f\"Name: {nStr}, Letter Grade: {lgStr}\"\n",
        "print(infStr)"
      ]
    },
    {
      "cell_type": "code",
      "source": [
        "# comparision operators\n",
        "# < > >= <= == !=\n",
        "# result in boolean (bool) True False\n",
        "\n",
        "# code (statement)"
      ],
      "metadata": {
        "id": "h3FqWHXCMeaF"
      },
      "execution_count": null,
      "outputs": []
    },
    {
      "cell_type": "code",
      "source": [
        "# conditional statement (code): if else\n",
        "# 3 formats\n",
        "# format 1\n",
        "# if con1:\n",
        "#   codeBlock1 (multiple lines of codes)\n",
        "#   private room\n",
        "# age>21 you are allowed to enter the room\n",
        "print(\"Input your age:\")\n",
        "ageStr=input()# string\n",
        "#\n",
        "age=int(ageStr)\n",
        "if age>=21:\n",
        "  print(\"Your age is greater than 21\")\n",
        "  print(\"You entered the room\")\n",
        "print(\"Next line of if else\")"
      ],
      "metadata": {
        "colab": {
          "base_uri": "https://localhost:8080/"
        },
        "id": "IyNEmbIVONYR",
        "outputId": "138709e0-a21e-4283-9f6d-5eb317836d9e"
      },
      "execution_count": null,
      "outputs": [
        {
          "output_type": "stream",
          "name": "stdout",
          "text": [
            "Input your age:\n",
            "21\n",
            "Your age is greater than 21\n",
            "You entered the room\n",
            "Next line of if else\n"
          ]
        }
      ]
    },
    {
      "cell_type": "code",
      "source": [
        "# format 2\n",
        "print(\"Input your age:\")\n",
        "ageStr=input()# string\n",
        "#\n",
        "age=int(ageStr)\n",
        "\n",
        "if age>=21:\n",
        "  # block 1 private 1\n",
        "  print(\"Your age is greater than 21\")\n",
        "  print(\"You entered the room\")\n",
        "else:# otherwise\n",
        "  # block 2 private 2\n",
        "  print(\"Age < 21\")\n",
        "  print(\"A differnet room\")\n",
        "\n",
        "print(\"Next line of if else\")"
      ],
      "metadata": {
        "id": "aUZWoLZ4SklM"
      },
      "execution_count": null,
      "outputs": []
    },
    {
      "cell_type": "code",
      "source": [
        "# format 3\n",
        "# if else statement\n",
        "# at most, you enter 1 code block\n",
        "#\n",
        "print(\"Input grade:\")\n",
        "gStr=input()# string\n",
        "\n",
        "g=float(gStr) #\n",
        "\n",
        "if g>=90:\n",
        "  # block 1\n",
        "  print(\"congrats!\")\n",
        "  print(\"A\")\n",
        "elif g>=80:\n",
        "  print(\"B\")\n",
        "elif g>=70:\n",
        "  print(\"C\")\n",
        "else:\n",
        "  print(\"F\")\n",
        "\n",
        "print(\"next line of if else\")"
      ],
      "metadata": {
        "colab": {
          "base_uri": "https://localhost:8080/"
        },
        "id": "p50ku9KjT-wx",
        "outputId": "9e8ce605-0cda-4091-aea9-3c69207aef08"
      },
      "execution_count": null,
      "outputs": [
        {
          "output_type": "stream",
          "name": "stdout",
          "text": [
            "Input grade:\n",
            "80.6\n",
            "B\n",
            "next line of if else\n"
          ]
        }
      ]
    }
  ]
}