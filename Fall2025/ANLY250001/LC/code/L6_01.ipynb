{
  "nbformat": 4,
  "nbformat_minor": 0,
  "metadata": {
    "colab": {
      "provenance": []
    },
    "kernelspec": {
      "name": "python3",
      "display_name": "Python 3"
    },
    "language_info": {
      "name": "python"
    }
  },
  "cells": [
    {
      "cell_type": "code",
      "execution_count": null,
      "metadata": {
        "colab": {
          "base_uri": "https://localhost:8080/"
        },
        "id": "EZaDp5PQZ5Hv",
        "outputId": "f10f695b-5ded-4262-9504-8a597903e834"
      },
      "outputs": [
        {
          "output_type": "stream",
          "name": "stdout",
          "text": [
            "Input your current salary: \n",
            "90000\n",
            "The current salary is not greater than 100K\n",
            "The new salary is: $99000.00\n"
          ]
        }
      ],
      "source": [
        "# if else statement\n",
        "# your name and student id here\n",
        "print(\"Input your current salary: \")\n",
        "salStr=input() # string\n",
        "\n",
        "salDbl=float(salStr) # convert into float/double\n",
        "\n",
        "nSalDbl= salDbl*1.1 # salary increased by 10%\n",
        "\n",
        "if salDbl>100000:\n",
        "  print(\"The current salary is greater than 100K\")\n",
        "else:\n",
        "  print(\"The current salary is not greater than 100K\")\n",
        "\n",
        "inforStr=f\"The new salary is: ${nSalDbl:.2f}\"# in RAM\n",
        "print(inforStr)"
      ]
    },
    {
      "cell_type": "code",
      "source": [
        "# assignment\n",
        "# counter accumulator\n",
        "#\n",
        "\n",
        "# conditional statement\n",
        "# loops"
      ],
      "metadata": {
        "id": "96YaX5SYcnkM"
      },
      "execution_count": null,
      "outputs": []
    },
    {
      "cell_type": "code",
      "source": [
        "b = 0.0 # assignment\n",
        "\n",
        "# Two steps\n",
        "# Step 1: CPU float 8B in RAM\n",
        "# Step 2: Room card, variable b\n",
        "\n",
        "# simple vs complex\n",
        "# float simple:"
      ],
      "metadata": {
        "id": "_ExTdltCc_2W"
      },
      "execution_count": null,
      "outputs": []
    },
    {
      "cell_type": "code",
      "source": [
        "b =b+10.5 # assignment counter accumulator\n",
        "# Two\n",
        "# Step 1:b+10.5 => RAM 8B\n",
        "# Step 2:\n"
      ],
      "metadata": {
        "id": "Qvgp9TucemSD"
      },
      "execution_count": null,
      "outputs": []
    },
    {
      "cell_type": "code",
      "source": [
        "print(b)"
      ],
      "metadata": {
        "colab": {
          "base_uri": "https://localhost:8080/"
        },
        "id": "KXud6zIYgHpA",
        "outputId": "5ed684f2-2cc8-4897-b251-7474892192cc"
      },
      "execution_count": null,
      "outputs": [
        {
          "output_type": "stream",
          "name": "stdout",
          "text": [
            "10.5\n"
          ]
        }
      ]
    },
    {
      "cell_type": "code",
      "source": [
        "b=b-2 # assignment\n",
        "# Two steps\n",
        "# Step 1: b-2 8.5 => store into RAM 8B 8.5\n",
        "# Step 2:"
      ],
      "metadata": {
        "id": "SKdMHJUNgivp"
      },
      "execution_count": null,
      "outputs": []
    },
    {
      "cell_type": "code",
      "source": [
        "print(b)"
      ],
      "metadata": {
        "colab": {
          "base_uri": "https://localhost:8080/"
        },
        "id": "dPfzE8GqhUuT",
        "outputId": "a924219f-2d36-4ed0-e521-8e5e4ab5c1a4"
      },
      "execution_count": null,
      "outputs": [
        {
          "output_type": "stream",
          "name": "stdout",
          "text": [
            "8.5\n"
          ]
        }
      ]
    },
    {
      "cell_type": "code",
      "source": [
        "b=b+3#\n",
        "print(b)"
      ],
      "metadata": {
        "colab": {
          "base_uri": "https://localhost:8080/"
        },
        "id": "RvvBmosshv2c",
        "outputId": "c43227ff-287d-4bf0-ba25-af224763d749"
      },
      "execution_count": null,
      "outputs": [
        {
          "output_type": "stream",
          "name": "stdout",
          "text": [
            "17.5\n"
          ]
        }
      ]
    },
    {
      "cell_type": "code",
      "source": [
        "b=b-1# 16.5\n",
        "print(b)"
      ],
      "metadata": {
        "colab": {
          "base_uri": "https://localhost:8080/"
        },
        "id": "MjGa0vtciY4Q",
        "outputId": "6569fea5-1875-4bd8-99e4-9aab44c58930"
      },
      "execution_count": null,
      "outputs": [
        {
          "output_type": "stream",
          "name": "stdout",
          "text": [
            "10.5\n"
          ]
        }
      ]
    },
    {
      "cell_type": "code",
      "source": [
        "# Hourly paid job\n",
        "# 3 weeks, some days, some hours\n",
        "# r=18.0"
      ],
      "metadata": {
        "id": "8bcNMtXYjazB"
      },
      "execution_count": null,
      "outputs": []
    },
    {
      "cell_type": "code",
      "source": [
        "# define some counter variables\n",
        "nW=0 # number of weeks\n",
        "nD=0 # number of total days\n",
        "nH=0 # total number of hours\n",
        "\n",
        "r=18.0 # $18 per hour\n",
        "\n",
        "# Week 1\n",
        "nW=nW+1 # 1\n",
        "\n",
        "infStr=f\"Input the days in Week {nW}:\"\n",
        "print(infStr)\n",
        "dStr=input() #\n",
        "dDbl=float(dStr)\n",
        "\n",
        "nD=nD+dDbl #\n",
        "\n",
        "#\n",
        "infStr=f\"After {nW} weeks, I worked {nD} days\"\n",
        "print(infStr)\n",
        "\n",
        "# Week 1\n",
        "nW=nW+1 # 1\n",
        "\n",
        "infStr=f\"Input the days in Week {nW}:\"\n",
        "print(infStr)\n",
        "dStr=input() #\n",
        "dDbl=float(dStr)\n",
        "\n",
        "nD=nD+dDbl #\n",
        "\n",
        "#\n",
        "infStr=f\"After {nW} weeks, I worked {nD} days\"\n",
        "print(infStr)\n",
        "\n",
        "\n"
      ],
      "metadata": {
        "colab": {
          "base_uri": "https://localhost:8080/"
        },
        "id": "xbvU_WpMj9_L",
        "outputId": "d053d3ac-a928-4f8b-b8b5-0272c349f52c"
      },
      "execution_count": null,
      "outputs": [
        {
          "output_type": "stream",
          "name": "stdout",
          "text": [
            "Input the days in Week 1:\n",
            "2.0\n",
            "After 1 weeks, I worked 2.0 days\n",
            "Input the days in Week 2:\n",
            "3.5\n",
            "After 2 weeks, I worked 5.5 days\n",
            "Input the days in Week 3:\n",
            "5.0\n",
            "After 3 weeks, I worked 10.5 days\n"
          ]
        }
      ]
    },
    {
      "cell_type": "code",
      "source": [],
      "metadata": {
        "id": "OBiPe3eFki11"
      },
      "execution_count": null,
      "outputs": []
    },
    {
      "cell_type": "code",
      "source": [],
      "metadata": {
        "id": "1rdFdAcIkpdL"
      },
      "execution_count": null,
      "outputs": []
    }
  ]
}