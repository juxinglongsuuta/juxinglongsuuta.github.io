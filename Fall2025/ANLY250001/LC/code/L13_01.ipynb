{
  "nbformat": 4,
  "nbformat_minor": 0,
  "metadata": {
    "colab": {
      "provenance": []
    },
    "kernelspec": {
      "name": "python3",
      "display_name": "Python 3"
    },
    "language_info": {
      "name": "python"
    }
  },
  "cells": [
    {
      "cell_type": "code",
      "execution_count": null,
      "metadata": {
        "colab": {
          "base_uri": "https://localhost:8080/"
        },
        "id": "hU90IPpWZm_j",
        "outputId": "6868a0b2-93a4-4709-b601-a0b426c12111"
      },
      "outputs": [
        {
          "output_type": "stream",
          "name": "stdout",
          "text": [
            "Input an integer:\n",
            "12\n",
            "i = 12\n"
          ]
        }
      ],
      "source": [
        "# loop\n",
        "# while condition:\n",
        "#   loop body\n",
        "print(\"Input an integer:\")\n",
        "iStr=input()\n",
        "i=int(iStr)\n",
        "print(f\"i = {i}\") # ctrl c to copy the code"
      ]
    },
    {
      "cell_type": "code",
      "source": [
        "i = 1\n",
        "while i>0: # if i > 0\n",
        "  # loop body\n",
        "  print(\"\\nLoop body repeaded one more time\")\n",
        "  print(f\"{i} > 0\")\n",
        "  print(\"Input an integer:\")\n",
        "  iStr=input()\n",
        "  i=int(iStr)\n",
        "  print(f\"i = {i}\\n\")\n",
        "\n",
        "print(\"This is the next line of the loop\")\n",
        "print(f\"i = {i}\")"
      ],
      "metadata": {
        "colab": {
          "base_uri": "https://localhost:8080/"
        },
        "id": "BqwliuaqZ9uc",
        "outputId": "dc5be394-9676-4356-e9bf-55438961d339"
      },
      "execution_count": null,
      "outputs": [
        {
          "output_type": "stream",
          "name": "stdout",
          "text": [
            "\n",
            "Loop body repeaded one more time\n",
            "1 > 0\n",
            "Input an integer:\n",
            "2\n",
            "i = 2\n",
            "\n",
            "\n",
            "Loop body repeaded one more time\n",
            "2 > 0\n",
            "Input an integer:\n",
            "3\n",
            "i = 3\n",
            "\n",
            "\n",
            "Loop body repeaded one more time\n",
            "3 > 0\n",
            "Input an integer:\n",
            "-1\n",
            "i = -1\n",
            "\n",
            "This is the next line of the loop\n",
            "i = -1\n"
          ]
        }
      ]
    },
    {
      "cell_type": "code",
      "source": [
        "# list: complex (collection)\n",
        "# []\n",
        "a=[3,6,10] # list warehouse\n",
        " # 0 1 2\n",
        "print(a)\n",
        "\n",
        "print(a[1])"
      ],
      "metadata": {
        "colab": {
          "base_uri": "https://localhost:8080/"
        },
        "id": "4WDBRvlmSpIa",
        "outputId": "b6b70c16-b774-4c56-d238-0502943a7930"
      },
      "execution_count": null,
      "outputs": [
        {
          "output_type": "stream",
          "name": "stdout",
          "text": [
            "[3, 6, 10]\n",
            "6\n"
          ]
        }
      ]
    },
    {
      "cell_type": "code",
      "source": [
        "r=range(1,9,2) # 1 3 5 7\n",
        "print(r)\n",
        "\n",
        "a=list(r)\n",
        "print(a)\n",
        "\n",
        "r=range(3) # (0,3,1) 0 1 2\n",
        "a=list(r)\n",
        "print(a)"
      ],
      "metadata": {
        "colab": {
          "base_uri": "https://localhost:8080/"
        },
        "id": "gIgEfPDrUDLq",
        "outputId": "071eea79-3575-452d-d4f3-bce6280375c6"
      },
      "execution_count": null,
      "outputs": [
        {
          "output_type": "stream",
          "name": "stdout",
          "text": [
            "range(1, 9, 2)\n",
            "[1, 3, 5, 7]\n",
            "[0, 1, 2]\n"
          ]
        }
      ]
    },
    {
      "cell_type": "code",
      "source": [
        "# for loop\n",
        "a = [3,10, 12]\n",
        "for i in a:# i=3 i=10 i=12\n",
        "  print(\"\\nLoop body\")\n",
        "  print(\"loop iteration\")\n",
        "  print(i)"
      ],
      "metadata": {
        "colab": {
          "base_uri": "https://localhost:8080/"
        },
        "id": "aii8eW0HUwP2",
        "outputId": "8aa40bbd-ebb6-4942-b41a-a89855c8161f"
      },
      "execution_count": null,
      "outputs": [
        {
          "output_type": "stream",
          "name": "stdout",
          "text": [
            "\n",
            "Loop body\n",
            "loop iteration\n",
            "3\n",
            "\n",
            "Loop body\n",
            "loop iteration\n",
            "10\n",
            "\n",
            "Loop body\n",
            "loop iteration\n",
            "12\n"
          ]
        }
      ]
    },
    {
      "cell_type": "code",
      "source": [
        "# anly 2500\n",
        "for item in range(10):# item=0 item=1\n",
        "  print(\"\\nANLY 2500\")\n",
        "  print(item)"
      ],
      "metadata": {
        "colab": {
          "base_uri": "https://localhost:8080/"
        },
        "id": "G_d-SH-SVi64",
        "outputId": "c39f576f-8c87-45c4-b25e-c304579deb9a"
      },
      "execution_count": null,
      "outputs": [
        {
          "output_type": "stream",
          "name": "stdout",
          "text": [
            "\n",
            "ANLY 2500\n",
            "0\n",
            "\n",
            "ANLY 2500\n",
            "1\n",
            "\n",
            "ANLY 2500\n",
            "2\n",
            "\n",
            "ANLY 2500\n",
            "3\n",
            "\n",
            "ANLY 2500\n",
            "4\n",
            "\n",
            "ANLY 2500\n",
            "5\n",
            "\n",
            "ANLY 2500\n",
            "6\n",
            "\n",
            "ANLY 2500\n",
            "7\n",
            "\n",
            "ANLY 2500\n",
            "8\n",
            "\n",
            "ANLY 2500\n",
            "9\n"
          ]
        }
      ]
    },
    {
      "cell_type": "code",
      "source": [
        "# break: stop the loop\n",
        "# continue: sip the rest of the loop body,\n",
        "# and get next item in the list (go to next iteration)"
      ],
      "metadata": {
        "id": "hnCrT-wzWPQ8"
      },
      "execution_count": null,
      "outputs": []
    },
    {
      "cell_type": "code",
      "source": [
        "for i in range(20):\n",
        "  if i==13:\n",
        "    break# stop the loop\n",
        "  print(i)\n",
        "\n",
        "print(\"next line of loop\")"
      ],
      "metadata": {
        "colab": {
          "base_uri": "https://localhost:8080/"
        },
        "id": "_8LEDOytWilq",
        "outputId": "a1857f64-b6c3-4d9e-8faa-044165a5a69c"
      },
      "execution_count": null,
      "outputs": [
        {
          "output_type": "stream",
          "name": "stdout",
          "text": [
            "0\n",
            "1\n",
            "2\n",
            "3\n",
            "4\n",
            "5\n",
            "6\n",
            "7\n",
            "8\n",
            "9\n",
            "10\n",
            "11\n",
            "12\n",
            "next line of loop\n"
          ]
        }
      ]
    },
    {
      "cell_type": "code",
      "source": [
        "for i in range(20):\n",
        "  if i==13:\n",
        "    continue# skip the rest, go to next iteration\n",
        "  print(i)\n",
        "\n",
        "print(\"next line of loop\")"
      ],
      "metadata": {
        "colab": {
          "base_uri": "https://localhost:8080/"
        },
        "id": "W4V-WhLAXm3H",
        "outputId": "50cc799e-7c56-4a11-baa5-34c2e2515526"
      },
      "execution_count": null,
      "outputs": [
        {
          "output_type": "stream",
          "name": "stdout",
          "text": [
            "0\n",
            "1\n",
            "2\n",
            "3\n",
            "4\n",
            "5\n",
            "6\n",
            "7\n",
            "8\n",
            "9\n",
            "10\n",
            "11\n",
            "12\n",
            "14\n",
            "15\n",
            "16\n",
            "17\n",
            "18\n",
            "19\n",
            "next line of loop\n"
          ]
        }
      ]
    },
    {
      "cell_type": "code",
      "source": [
        "# while loop\n",
        "i=10\n",
        "while i!=3:\n",
        "  print(\"\\nLoop body\")\n",
        "  print(\"one loop interation\")\n",
        "  print(\"Input i:\")\n",
        "  istr=input()\n",
        "  i=int(istr)\n",
        "\n",
        "\n",
        "print(\"next line of the loop\")"
      ],
      "metadata": {
        "colab": {
          "base_uri": "https://localhost:8080/"
        },
        "id": "0LAPs6nwYPPg",
        "outputId": "3a80fd4e-0830-45d3-c180-9c6e23e22ea2"
      },
      "execution_count": null,
      "outputs": [
        {
          "output_type": "stream",
          "name": "stdout",
          "text": [
            "\n",
            "Loop body\n",
            "one loop interation\n",
            "Input i:\n",
            "4\n",
            "\n",
            "Loop body\n",
            "one loop interation\n",
            "Input i:\n",
            "5\n",
            "\n",
            "Loop body\n",
            "one loop interation\n",
            "Input i:\n",
            "3\n",
            "next line of the loop\n"
          ]
        }
      ]
    },
    {
      "cell_type": "code",
      "source": [
        "# infinite loop\n",
        "while True:\n",
        "  print(\"\\nDo you want to continue? (y/n)\")\n",
        "  userChoice=input() # string\n",
        "  if userChoice==\"n\":\n",
        "    break\n",
        "\n",
        "print(\"Next line of loop\")"
      ],
      "metadata": {
        "colab": {
          "base_uri": "https://localhost:8080/"
        },
        "id": "VWRBT3CSaM_y",
        "outputId": "421ee7d9-58a8-4b3d-f231-5387ecbcc83f"
      },
      "execution_count": null,
      "outputs": [
        {
          "output_type": "stream",
          "name": "stdout",
          "text": [
            "\n",
            "Do you want to continue? (y/n)\n",
            "y\n",
            "\n",
            "Do you want to continue? (y/n)\n",
            "y\n",
            "\n",
            "Do you want to continue? (y/n)\n",
            "n\n",
            "Next line of loop\n"
          ]
        }
      ]
    },
    {
      "cell_type": "code",
      "source": [
        "# number guessing\n",
        "import random\n",
        "\n",
        "gt=random.randint(1,6)\n",
        "\n",
        "f=0 # final points\n",
        "\n",
        "while True:\n",
        "  print(\"\\nInput a number between 1 and 5:\")\n",
        "  istr=input()\n",
        "  i=int(istr)\n",
        "\n",
        "  if i==gt:\n",
        "    print(\"\\nCongrats! \\nCorrect! \\nGain 5 points!\")\n",
        "    f=f+5\n",
        "    break\n",
        "  else:\n",
        "    f=f-1\n",
        "    print(\"\\nSorry!\\n Wrong! \\nLose 1 point!\")\n",
        "\n",
        "print(f\"\\n\\nFinal points: {f}\")\n"
      ],
      "metadata": {
        "colab": {
          "base_uri": "https://localhost:8080/"
        },
        "id": "PL1tcHwxcH7y",
        "outputId": "738caec1-530d-4c86-8f59-b2b2f0d3118c"
      },
      "execution_count": null,
      "outputs": [
        {
          "output_type": "stream",
          "name": "stdout",
          "text": [
            "\n",
            "Input a number between 1 and 5:\n",
            "1\n",
            "\n",
            "Sorry!\n",
            " Wrong! \n",
            "Lose 1 point!\n",
            "\n",
            "Input a number between 1 and 5:\n",
            "2\n",
            "\n",
            "Sorry!\n",
            " Wrong! \n",
            "Lose 1 point!\n",
            "\n",
            "Input a number between 1 and 5:\n",
            "3\n",
            "\n",
            "Congrats! \n",
            "Correct! \n",
            "Gain 5 points!\n",
            "\n",
            "\n",
            "Final points: 3\n"
          ]
        }
      ]
    }
  ]
}