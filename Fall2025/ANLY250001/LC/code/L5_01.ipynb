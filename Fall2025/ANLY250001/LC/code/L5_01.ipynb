{
  "nbformat": 4,
  "nbformat_minor": 0,
  "metadata": {
    "colab": {
      "provenance": []
    },
    "kernelspec": {
      "name": "python3",
      "display_name": "Python 3"
    },
    "language_info": {
      "name": "python"
    }
  },
  "cells": [
    {
      "cell_type": "code",
      "execution_count": null,
      "metadata": {
        "colab": {
          "base_uri": "https://localhost:8080/"
        },
        "id": "5SH8JPwfGL2X",
        "outputId": "20215ae3-57e1-4db2-b170-87b0efb9c6a7"
      },
      "outputs": [
        {
          "output_type": "stream",
          "name": "stdout",
          "text": [
            "Please input your name:\n",
            "Xinglong\n",
            "Please input your grade:\n",
            "90\n",
            "The name is: Xinglong. The new grade: 99.00\n"
          ]
        }
      ],
      "source": [
        "print(\"Please input your name:\")\n",
        "nStr=input()\n",
        "\n",
        "print(\"Please input your grade:\")\n",
        "gStr=input()\n",
        "\n",
        "gDbl=float(gStr)\n",
        "\n",
        "# increase the grade by 10%\n",
        "newGDbl=gDbl*1.1\n",
        "#print(gDbl)\n",
        "\n",
        "inforStr=f\"The name is: {nStr}. The new grade: {newGDbl:.2f}\"\n",
        "print(inforStr)"
      ]
    },
    {
      "cell_type": "code",
      "source": [
        "# assignment\n",
        "# function\n",
        "# simple vs complex\n",
        "\n",
        "# comments vs codes (statement)\n",
        "\n",
        "# variables\n",
        "# 1. letter number _\n",
        "# 2. first char:\n",
        "    # can be a letter or _\n",
        "    # can not be a number\n",
        "\n",
        "# programming -> commands\n",
        "\n",
        "# Two resources\n",
        "# 1. CPU: calculation\n",
        "# 2. RAM: store data (NOT hard drive)\n",
        "\n",
        "# data\n",
        "# datatypes (types of room)\n",
        "# integer: 4B simple (not expensive)\n",
        "# float/double: 8B\n",
        "# boolean: True False 1B\n",
        "# string: \"\" ''  ''' ''' \"\"\" \"\"\"\n",
        "\n",
        "# operators\n",
        "# = assignment operator\n",
        "# arithmetic operator: + - * / ** // %\n",
        "# 3+4*3 expression CPU\n",
        "\n",
        "# function\n",
        "# print\n",
        "# input\n",
        "# f\"\"\n",
        "# int\n",
        "# str\n",
        "# float\n",
        "\n",
        "# function vs function call\n",
        "# print(\"Hello\",2,True) # parameters\n",
        "# input() # string\n",
        "# float(\"12.3\")\n",
        "# int(\"12\")\n",
        "\n"
      ],
      "metadata": {
        "id": "reFH2no1JhyW"
      },
      "execution_count": null,
      "outputs": []
    },
    {
      "cell_type": "code",
      "source": [
        "# f\" {:.2f} {:.2%}\\n\" \\t produce a string\n",
        "# \\n next line, new line\n",
        "# :.2f . decimal point 2 digits fixed\n",
        "# :.2% . in percentage format\n",
        "g = 96.6 + 1 # assignment statment\n",
        "# Two\n",
        "# Step 1: right side\n",
        "# Step 2: Write the address (room number) into card (variable)\n",
        "i = 0.056 #\n",
        "#\n",
        "infStr=f\"Grade: {g:.3f}\\n     Inerest rate: {i:.2%}\" #\n",
        "print(infStr) #\n",
        "# console terminal"
      ],
      "metadata": {
        "colab": {
          "base_uri": "https://localhost:8080/"
        },
        "id": "Vn3H8qBwO7H2",
        "outputId": "4569283e-54fc-455f-e9a2-afe95a51a815"
      },
      "execution_count": null,
      "outputs": [
        {
          "output_type": "stream",
          "name": "stdout",
          "text": [
            "Grade: 97.600\n",
            "     Inerest rate: 5.60%\n"
          ]
        }
      ]
    },
    {
      "cell_type": "code",
      "source": [
        "# // %\n",
        "r = 7/3\n",
        "print(r)\n",
        "\n",
        "r=7//3\n",
        "print(r)\n",
        "\n",
        "r=7%3\n",
        "print(r)"
      ],
      "metadata": {
        "colab": {
          "base_uri": "https://localhost:8080/"
        },
        "id": "WtEAIDLeRPed",
        "outputId": "90743013-5775-4ed5-8f33-4262012d5fd9"
      },
      "execution_count": null,
      "outputs": [
        {
          "output_type": "stream",
          "name": "stdout",
          "text": [
            "2.3333333333333335\n",
            "2\n",
            "1\n"
          ]
        }
      ]
    },
    {
      "cell_type": "code",
      "source": [],
      "metadata": {
        "id": "rGIRXheYUB38"
      },
      "execution_count": null,
      "outputs": []
    },
    {
      "cell_type": "code",
      "source": [],
      "metadata": {
        "id": "DDx8fUpuT0u8"
      },
      "execution_count": null,
      "outputs": []
    },
    {
      "cell_type": "code",
      "source": [
        "print(id(g))"
      ],
      "metadata": {
        "colab": {
          "base_uri": "https://localhost:8080/"
        },
        "id": "yxE8zSy4RA-0",
        "outputId": "85be0a1e-c236-4db6-e061-4b0d63e3e268"
      },
      "execution_count": null,
      "outputs": [
        {
          "output_type": "stream",
          "name": "stdout",
          "text": [
            "132750478295376\n"
          ]
        }
      ]
    }
  ]
}