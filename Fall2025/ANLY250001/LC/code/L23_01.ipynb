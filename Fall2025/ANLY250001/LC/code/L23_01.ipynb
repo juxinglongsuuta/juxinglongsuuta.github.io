{
  "nbformat": 4,
  "nbformat_minor": 0,
  "metadata": {
    "colab": {
      "provenance": []
    },
    "kernelspec": {
      "name": "python3",
      "display_name": "Python 3"
    },
    "language_info": {
      "name": "python"
    }
  },
  "cells": [
    {
      "cell_type": "code",
      "execution_count": null,
      "metadata": {
        "colab": {
          "base_uri": "https://localhost:8080/"
        },
        "id": "_DvwieSRa8Zu",
        "outputId": "20344923-0177-4b07-fede-bd8ae18a488e"
      },
      "outputs": [
        {
          "output_type": "stream",
          "name": "stdout",
          "text": [
            "/content/drive/MyDrive/Colab Notebooks/ANLY2500_01_Fall2025/LC/L23\n"
          ]
        }
      ],
      "source": [
        "%cd \"/content/drive/MyDrive/Colab Notebooks/ANLY2500_01_Fall2025/LC/L23\""
      ]
    },
    {
      "cell_type": "code",
      "source": [
        "from google.colab import drive\n",
        "drive.mount('/content/drive')"
      ],
      "metadata": {
        "colab": {
          "base_uri": "https://localhost:8080/"
        },
        "id": "36zfWmllcGzo",
        "outputId": "5df46718-a3d5-4bcf-e352-d418998d4c2c"
      },
      "execution_count": null,
      "outputs": [
        {
          "output_type": "stream",
          "name": "stdout",
          "text": [
            "Mounted at /content/drive\n"
          ]
        }
      ]
    },
    {
      "cell_type": "code",
      "source": [
        "%pip install jupysql duckdb duckdb-engine --quiet\n",
        "# Load the SQL extension\n",
        "%load_ext sql\n",
        "# Setting: Show all rows\n",
        "%config SqlMagic.displaylimit = None"
      ],
      "metadata": {
        "colab": {
          "base_uri": "https://localhost:8080/",
          "height": 104
        },
        "id": "Jk5aXJr3bG5h",
        "outputId": "f68e0b96-2cd6-47a5-8d51-7cef20c21506"
      },
      "execution_count": null,
      "outputs": [
        {
          "output_type": "stream",
          "name": "stdout",
          "text": [
            "\u001b[?25l   \u001b[90m━━━━━━━━━━━━━━━━━━━━━━━━━━━━━━━━━━━━━━━━\u001b[0m \u001b[32m0.0/95.1 kB\u001b[0m \u001b[31m?\u001b[0m eta \u001b[36m-:--:--\u001b[0m\r\u001b[2K   \u001b[90m━━━━━━━━━━━━━━━━━━━━━━━━━━━━━━━━━━━━━━━━\u001b[0m \u001b[32m95.1/95.1 kB\u001b[0m \u001b[31m4.5 MB/s\u001b[0m eta \u001b[36m0:00:00\u001b[0m\n",
            "\u001b[?25h\u001b[?25l   \u001b[90m━━━━━━━━━━━━━━━━━━━━━━━━━━━━━━━━━━━━━━━━\u001b[0m \u001b[32m0.0/49.7 kB\u001b[0m \u001b[31m?\u001b[0m eta \u001b[36m-:--:--\u001b[0m\r\u001b[2K   \u001b[90m━━━━━━━━━━━━━━━━━━━━━━━━━━━━━━━━━━━━━━━━\u001b[0m \u001b[32m49.7/49.7 kB\u001b[0m \u001b[31m4.7 MB/s\u001b[0m eta \u001b[36m0:00:00\u001b[0m\n",
            "\u001b[2K   \u001b[90m━━━━━━━━━━━━━━━━━━━━━━━━━━━━━━━━━━━━━━━━\u001b[0m \u001b[32m192.8/192.8 kB\u001b[0m \u001b[31m12.1 MB/s\u001b[0m eta \u001b[36m0:00:00\u001b[0m\n",
            "\u001b[2K   \u001b[90m━━━━━━━━━━━━━━━━━━━━━━━━━━━━━━━━━━━━━━━━\u001b[0m \u001b[32m138.7/138.7 kB\u001b[0m \u001b[31m13.4 MB/s\u001b[0m eta \u001b[36m0:00:00\u001b[0m\n",
            "\u001b[?25h"
          ]
        },
        {
          "output_type": "display_data",
          "data": {
            "text/plain": [
              "displaylimit: Value None will be treated as 0 (no limit)"
            ],
            "text/html": [
              "<span style=\"None\">displaylimit: Value None will be treated as 0 (no limit)</span>"
            ]
          },
          "metadata": {}
        }
      ]
    },
    {
      "cell_type": "code",
      "source": [
        "%ls"
      ],
      "metadata": {
        "colab": {
          "base_uri": "https://localhost:8080/"
        },
        "id": "xKmuOw9bbLrZ",
        "outputId": "fa49de7d-74e2-4a5d-f53a-9c92ea2fadf3"
      },
      "execution_count": null,
      "outputs": [
        {
          "output_type": "stream",
          "name": "stdout",
          "text": [
            "City.db  L23_LCP.ipynb\n"
          ]
        }
      ]
    },
    {
      "cell_type": "code",
      "source": [
        "%sql sqlite:///City.db"
      ],
      "metadata": {
        "colab": {
          "base_uri": "https://localhost:8080/",
          "height": 34
        },
        "id": "lUoGnaJQbNfp",
        "outputId": "f4313173-f516-4378-f4ea-ac2911acff43"
      },
      "execution_count": null,
      "outputs": [
        {
          "output_type": "display_data",
          "data": {
            "text/plain": [
              "Connecting to 'sqlite:///City.db'"
            ],
            "text/html": [
              "<span style=\"None\">Connecting to &#x27;sqlite:///City.db&#x27;</span>"
            ]
          },
          "metadata": {}
        }
      ]
    },
    {
      "cell_type": "code",
      "source": [
        "%sqlcmd tables"
      ],
      "metadata": {
        "colab": {
          "base_uri": "https://localhost:8080/",
          "height": 62
        },
        "id": "x08T3YOQbb1M",
        "outputId": "f0805fc8-acd5-4c87-f74d-d98a5d25fa3b"
      },
      "execution_count": null,
      "outputs": [
        {
          "output_type": "execute_result",
          "data": {
            "text/plain": [
              "+------+\n",
              "| Name |\n",
              "+------+\n",
              "| data |\n",
              "+------+"
            ],
            "text/html": [
              "<table>\n",
              "    <thead>\n",
              "        <tr>\n",
              "            <th>Name</th>\n",
              "        </tr>\n",
              "    </thead>\n",
              "    <tbody>\n",
              "        <tr>\n",
              "            <td>data</td>\n",
              "        </tr>\n",
              "    </tbody>\n",
              "</table>"
            ]
          },
          "metadata": {},
          "execution_count": 6
        }
      ]
    },
    {
      "cell_type": "code",
      "source": [
        "%sqlcmd columns -t data"
      ],
      "metadata": {
        "colab": {
          "base_uri": "https://localhost:8080/",
          "height": 169
        },
        "id": "06b06plfbfbt",
        "outputId": "8bf3905d-198e-4d1a-ef15-785bc9a2724a"
      },
      "execution_count": null,
      "outputs": [
        {
          "output_type": "execute_result",
          "data": {
            "text/plain": [
              "+------------+---------+----------+---------+-------------+\n",
              "|    name    |   type  | nullable | default | primary_key |\n",
              "+------------+---------+----------+---------+-------------+\n",
              "|     ID     | INTEGER |  False   |   None  |      1      |\n",
              "|    City    |   TEXT  |   True   |   None  |      0      |\n",
              "|   State    |   TEXT  |   True   |   None  |      0      |\n",
              "| Population | INTEGER |   True   |   None  |      0      |\n",
              "|    lat     |   REAL  |   True   |   None  |      0      |\n",
              "|    lon     |   REAL  |   True   |   None  |      0      |\n",
              "+------------+---------+----------+---------+-------------+"
            ],
            "text/html": [
              "<table>\n",
              "    <thead>\n",
              "        <tr>\n",
              "            <th>name</th>\n",
              "            <th>type</th>\n",
              "            <th>nullable</th>\n",
              "            <th>default</th>\n",
              "            <th>primary_key</th>\n",
              "        </tr>\n",
              "    </thead>\n",
              "    <tbody>\n",
              "        <tr>\n",
              "            <td>ID</td>\n",
              "            <td>INTEGER</td>\n",
              "            <td>False</td>\n",
              "            <td>None</td>\n",
              "            <td>1</td>\n",
              "        </tr>\n",
              "        <tr>\n",
              "            <td>City</td>\n",
              "            <td>TEXT</td>\n",
              "            <td>True</td>\n",
              "            <td>None</td>\n",
              "            <td>0</td>\n",
              "        </tr>\n",
              "        <tr>\n",
              "            <td>State</td>\n",
              "            <td>TEXT</td>\n",
              "            <td>True</td>\n",
              "            <td>None</td>\n",
              "            <td>0</td>\n",
              "        </tr>\n",
              "        <tr>\n",
              "            <td>Population</td>\n",
              "            <td>INTEGER</td>\n",
              "            <td>True</td>\n",
              "            <td>None</td>\n",
              "            <td>0</td>\n",
              "        </tr>\n",
              "        <tr>\n",
              "            <td>lat</td>\n",
              "            <td>REAL</td>\n",
              "            <td>True</td>\n",
              "            <td>None</td>\n",
              "            <td>0</td>\n",
              "        </tr>\n",
              "        <tr>\n",
              "            <td>lon</td>\n",
              "            <td>REAL</td>\n",
              "            <td>True</td>\n",
              "            <td>None</td>\n",
              "            <td>0</td>\n",
              "        </tr>\n",
              "    </tbody>\n",
              "</table>"
            ]
          },
          "metadata": {},
          "execution_count": 7
        }
      ]
    },
    {
      "cell_type": "code",
      "source": [
        "%%sql\n",
        "select *\n",
        "from data\n",
        "where State='Utah'\n",
        ";"
      ],
      "metadata": {
        "colab": {
          "base_uri": "https://localhost:8080/",
          "height": 464
        },
        "id": "Mcn24t75blFo",
        "outputId": "931410c1-a2cb-4526-810b-2c98df9f66a3"
      },
      "execution_count": null,
      "outputs": [
        {
          "output_type": "display_data",
          "data": {
            "text/plain": [
              "Running query in 'sqlite:///City.db'"
            ],
            "text/html": [
              "<span style=\"None\">Running query in &#x27;sqlite:///City.db&#x27;</span>"
            ]
          },
          "metadata": {}
        },
        {
          "output_type": "execute_result",
          "data": {
            "text/plain": [
              "+-----+------------------+-------+------------+--------------------+---------------------+\n",
              "|  ID |       City       | State | Population |        lat         |         lon         |\n",
              "+-----+------------------+-------+------------+--------------------+---------------------+\n",
              "|  32 |      Logan       |  Utah |   48913    |     41.7369803     |     -111.8338359    |\n",
              "| 194 |   South Jordan   |  Utah |   59366    |     40.5621704     |     -111.929658     |\n",
              "| 286 |    Bountiful     |  Utah |   43023    |     40.8893895     |     -111.880771     |\n",
              "| 382 |      Provo       |  Utah |   116288   |     40.2338438     |     -111.6585337    |\n",
              "| 435 |   Spanish Fork   |  Utah |   36956    |     40.114955      |     -111.654923     |\n",
              "| 441 |   Taylorsville   |  Utah |   60519    |     40.6677248     |     -111.9388258    |\n",
              "| 467 |     Riverton     |  Utah |   40921    |     40.521893      |     -111.9391023    |\n",
              "| 501 |       Lehi       |  Utah |   54382    |     40.3916172     |     -111.8507662    |\n",
              "| 534 |      Ogden       |  Utah |   84249    |       41.223       |     -111.9738304    |\n",
              "| 569 |      Layton      |  Utah |   70790    |     41.0602216     |     -111.9710529    |\n",
              "| 604 |      Murray      |  Utah |   48612    |     40.6668916     |     -111.8879909    |\n",
              "| 631 |      Sandy       |  Utah |   90231    | 40.564978100000005 |     -111.8389726    |\n",
              "| 674 | West Valley City |  Utah |   133579   | 40.691613200000006 |     -112.0010501    |\n",
              "| 677 |       Orem       |  Utah |   91648    |     40.2968979     | -111.69464750000002 |\n",
              "| 738 |       Roy        |  Utah |   37733    |     41.1616108     |     -112.0263313    |\n",
              "| 763 |      Draper      |  Utah |   45285    |     40.5246711     |     -111.8638226    |\n",
              "| 857 |    St. George    |  Utah |   76817    |     37.0965278     |     -113.5684164    |\n",
              "| 956 |   West Jordan    |  Utah |   110077   |     40.6096698     |     -111.9391031    |\n",
              "| 965 |  Salt Lake City  |  Utah |   191180   |     40.7607793     | -111.89104740000002 |\n",
              "+-----+------------------+-------+------------+--------------------+---------------------+"
            ],
            "text/html": [
              "<table>\n",
              "    <thead>\n",
              "        <tr>\n",
              "            <th>ID</th>\n",
              "            <th>City</th>\n",
              "            <th>State</th>\n",
              "            <th>Population</th>\n",
              "            <th>lat</th>\n",
              "            <th>lon</th>\n",
              "        </tr>\n",
              "    </thead>\n",
              "    <tbody>\n",
              "        <tr>\n",
              "            <td>32</td>\n",
              "            <td>Logan</td>\n",
              "            <td>Utah</td>\n",
              "            <td>48913</td>\n",
              "            <td>41.7369803</td>\n",
              "            <td>-111.8338359</td>\n",
              "        </tr>\n",
              "        <tr>\n",
              "            <td>194</td>\n",
              "            <td>South Jordan</td>\n",
              "            <td>Utah</td>\n",
              "            <td>59366</td>\n",
              "            <td>40.5621704</td>\n",
              "            <td>-111.929658</td>\n",
              "        </tr>\n",
              "        <tr>\n",
              "            <td>286</td>\n",
              "            <td>Bountiful</td>\n",
              "            <td>Utah</td>\n",
              "            <td>43023</td>\n",
              "            <td>40.8893895</td>\n",
              "            <td>-111.880771</td>\n",
              "        </tr>\n",
              "        <tr>\n",
              "            <td>382</td>\n",
              "            <td>Provo</td>\n",
              "            <td>Utah</td>\n",
              "            <td>116288</td>\n",
              "            <td>40.2338438</td>\n",
              "            <td>-111.6585337</td>\n",
              "        </tr>\n",
              "        <tr>\n",
              "            <td>435</td>\n",
              "            <td>Spanish Fork</td>\n",
              "            <td>Utah</td>\n",
              "            <td>36956</td>\n",
              "            <td>40.114955</td>\n",
              "            <td>-111.654923</td>\n",
              "        </tr>\n",
              "        <tr>\n",
              "            <td>441</td>\n",
              "            <td>Taylorsville</td>\n",
              "            <td>Utah</td>\n",
              "            <td>60519</td>\n",
              "            <td>40.6677248</td>\n",
              "            <td>-111.9388258</td>\n",
              "        </tr>\n",
              "        <tr>\n",
              "            <td>467</td>\n",
              "            <td>Riverton</td>\n",
              "            <td>Utah</td>\n",
              "            <td>40921</td>\n",
              "            <td>40.521893</td>\n",
              "            <td>-111.9391023</td>\n",
              "        </tr>\n",
              "        <tr>\n",
              "            <td>501</td>\n",
              "            <td>Lehi</td>\n",
              "            <td>Utah</td>\n",
              "            <td>54382</td>\n",
              "            <td>40.3916172</td>\n",
              "            <td>-111.8507662</td>\n",
              "        </tr>\n",
              "        <tr>\n",
              "            <td>534</td>\n",
              "            <td>Ogden</td>\n",
              "            <td>Utah</td>\n",
              "            <td>84249</td>\n",
              "            <td>41.223</td>\n",
              "            <td>-111.9738304</td>\n",
              "        </tr>\n",
              "        <tr>\n",
              "            <td>569</td>\n",
              "            <td>Layton</td>\n",
              "            <td>Utah</td>\n",
              "            <td>70790</td>\n",
              "            <td>41.0602216</td>\n",
              "            <td>-111.9710529</td>\n",
              "        </tr>\n",
              "        <tr>\n",
              "            <td>604</td>\n",
              "            <td>Murray</td>\n",
              "            <td>Utah</td>\n",
              "            <td>48612</td>\n",
              "            <td>40.6668916</td>\n",
              "            <td>-111.8879909</td>\n",
              "        </tr>\n",
              "        <tr>\n",
              "            <td>631</td>\n",
              "            <td>Sandy</td>\n",
              "            <td>Utah</td>\n",
              "            <td>90231</td>\n",
              "            <td>40.564978100000005</td>\n",
              "            <td>-111.8389726</td>\n",
              "        </tr>\n",
              "        <tr>\n",
              "            <td>674</td>\n",
              "            <td>West Valley City</td>\n",
              "            <td>Utah</td>\n",
              "            <td>133579</td>\n",
              "            <td>40.691613200000006</td>\n",
              "            <td>-112.0010501</td>\n",
              "        </tr>\n",
              "        <tr>\n",
              "            <td>677</td>\n",
              "            <td>Orem</td>\n",
              "            <td>Utah</td>\n",
              "            <td>91648</td>\n",
              "            <td>40.2968979</td>\n",
              "            <td>-111.69464750000002</td>\n",
              "        </tr>\n",
              "        <tr>\n",
              "            <td>738</td>\n",
              "            <td>Roy</td>\n",
              "            <td>Utah</td>\n",
              "            <td>37733</td>\n",
              "            <td>41.1616108</td>\n",
              "            <td>-112.0263313</td>\n",
              "        </tr>\n",
              "        <tr>\n",
              "            <td>763</td>\n",
              "            <td>Draper</td>\n",
              "            <td>Utah</td>\n",
              "            <td>45285</td>\n",
              "            <td>40.5246711</td>\n",
              "            <td>-111.8638226</td>\n",
              "        </tr>\n",
              "        <tr>\n",
              "            <td>857</td>\n",
              "            <td>St. George</td>\n",
              "            <td>Utah</td>\n",
              "            <td>76817</td>\n",
              "            <td>37.0965278</td>\n",
              "            <td>-113.5684164</td>\n",
              "        </tr>\n",
              "        <tr>\n",
              "            <td>956</td>\n",
              "            <td>West Jordan</td>\n",
              "            <td>Utah</td>\n",
              "            <td>110077</td>\n",
              "            <td>40.6096698</td>\n",
              "            <td>-111.9391031</td>\n",
              "        </tr>\n",
              "        <tr>\n",
              "            <td>965</td>\n",
              "            <td>Salt Lake City</td>\n",
              "            <td>Utah</td>\n",
              "            <td>191180</td>\n",
              "            <td>40.7607793</td>\n",
              "            <td>-111.89104740000002</td>\n",
              "        </tr>\n",
              "    </tbody>\n",
              "</table>"
            ]
          },
          "metadata": {},
          "execution_count": 9
        }
      ]
    },
    {
      "cell_type": "code",
      "source": [
        "# asc: desc:\n",
        "%%sql\n",
        "select *\n",
        "from data\n",
        "where State='Utah'\n",
        "order by Population desc\n",
        ";"
      ],
      "metadata": {
        "colab": {
          "base_uri": "https://localhost:8080/",
          "height": 464
        },
        "id": "VFOZ_eJXbxeO",
        "outputId": "c1adf2c4-da9a-4a08-eb9e-859de926b028"
      },
      "execution_count": null,
      "outputs": [
        {
          "output_type": "display_data",
          "data": {
            "text/plain": [
              "Running query in 'sqlite:///City.db'"
            ],
            "text/html": [
              "<span style=\"None\">Running query in &#x27;sqlite:///City.db&#x27;</span>"
            ]
          },
          "metadata": {}
        },
        {
          "output_type": "execute_result",
          "data": {
            "text/plain": [
              "+-----+------------------+-------+------------+--------------------+---------------------+\n",
              "|  ID |       City       | State | Population |        lat         |         lon         |\n",
              "+-----+------------------+-------+------------+--------------------+---------------------+\n",
              "| 965 |  Salt Lake City  |  Utah |   191180   |     40.7607793     | -111.89104740000002 |\n",
              "| 674 | West Valley City |  Utah |   133579   | 40.691613200000006 |     -112.0010501    |\n",
              "| 382 |      Provo       |  Utah |   116288   |     40.2338438     |     -111.6585337    |\n",
              "| 956 |   West Jordan    |  Utah |   110077   |     40.6096698     |     -111.9391031    |\n",
              "| 677 |       Orem       |  Utah |   91648    |     40.2968979     | -111.69464750000002 |\n",
              "| 631 |      Sandy       |  Utah |   90231    | 40.564978100000005 |     -111.8389726    |\n",
              "| 534 |      Ogden       |  Utah |   84249    |       41.223       |     -111.9738304    |\n",
              "| 857 |    St. George    |  Utah |   76817    |     37.0965278     |     -113.5684164    |\n",
              "| 569 |      Layton      |  Utah |   70790    |     41.0602216     |     -111.9710529    |\n",
              "| 441 |   Taylorsville   |  Utah |   60519    |     40.6677248     |     -111.9388258    |\n",
              "| 194 |   South Jordan   |  Utah |   59366    |     40.5621704     |     -111.929658     |\n",
              "| 501 |       Lehi       |  Utah |   54382    |     40.3916172     |     -111.8507662    |\n",
              "|  32 |      Logan       |  Utah |   48913    |     41.7369803     |     -111.8338359    |\n",
              "| 604 |      Murray      |  Utah |   48612    |     40.6668916     |     -111.8879909    |\n",
              "| 763 |      Draper      |  Utah |   45285    |     40.5246711     |     -111.8638226    |\n",
              "| 286 |    Bountiful     |  Utah |   43023    |     40.8893895     |     -111.880771     |\n",
              "| 467 |     Riverton     |  Utah |   40921    |     40.521893      |     -111.9391023    |\n",
              "| 738 |       Roy        |  Utah |   37733    |     41.1616108     |     -112.0263313    |\n",
              "| 435 |   Spanish Fork   |  Utah |   36956    |     40.114955      |     -111.654923     |\n",
              "+-----+------------------+-------+------------+--------------------+---------------------+"
            ],
            "text/html": [
              "<table>\n",
              "    <thead>\n",
              "        <tr>\n",
              "            <th>ID</th>\n",
              "            <th>City</th>\n",
              "            <th>State</th>\n",
              "            <th>Population</th>\n",
              "            <th>lat</th>\n",
              "            <th>lon</th>\n",
              "        </tr>\n",
              "    </thead>\n",
              "    <tbody>\n",
              "        <tr>\n",
              "            <td>965</td>\n",
              "            <td>Salt Lake City</td>\n",
              "            <td>Utah</td>\n",
              "            <td>191180</td>\n",
              "            <td>40.7607793</td>\n",
              "            <td>-111.89104740000002</td>\n",
              "        </tr>\n",
              "        <tr>\n",
              "            <td>674</td>\n",
              "            <td>West Valley City</td>\n",
              "            <td>Utah</td>\n",
              "            <td>133579</td>\n",
              "            <td>40.691613200000006</td>\n",
              "            <td>-112.0010501</td>\n",
              "        </tr>\n",
              "        <tr>\n",
              "            <td>382</td>\n",
              "            <td>Provo</td>\n",
              "            <td>Utah</td>\n",
              "            <td>116288</td>\n",
              "            <td>40.2338438</td>\n",
              "            <td>-111.6585337</td>\n",
              "        </tr>\n",
              "        <tr>\n",
              "            <td>956</td>\n",
              "            <td>West Jordan</td>\n",
              "            <td>Utah</td>\n",
              "            <td>110077</td>\n",
              "            <td>40.6096698</td>\n",
              "            <td>-111.9391031</td>\n",
              "        </tr>\n",
              "        <tr>\n",
              "            <td>677</td>\n",
              "            <td>Orem</td>\n",
              "            <td>Utah</td>\n",
              "            <td>91648</td>\n",
              "            <td>40.2968979</td>\n",
              "            <td>-111.69464750000002</td>\n",
              "        </tr>\n",
              "        <tr>\n",
              "            <td>631</td>\n",
              "            <td>Sandy</td>\n",
              "            <td>Utah</td>\n",
              "            <td>90231</td>\n",
              "            <td>40.564978100000005</td>\n",
              "            <td>-111.8389726</td>\n",
              "        </tr>\n",
              "        <tr>\n",
              "            <td>534</td>\n",
              "            <td>Ogden</td>\n",
              "            <td>Utah</td>\n",
              "            <td>84249</td>\n",
              "            <td>41.223</td>\n",
              "            <td>-111.9738304</td>\n",
              "        </tr>\n",
              "        <tr>\n",
              "            <td>857</td>\n",
              "            <td>St. George</td>\n",
              "            <td>Utah</td>\n",
              "            <td>76817</td>\n",
              "            <td>37.0965278</td>\n",
              "            <td>-113.5684164</td>\n",
              "        </tr>\n",
              "        <tr>\n",
              "            <td>569</td>\n",
              "            <td>Layton</td>\n",
              "            <td>Utah</td>\n",
              "            <td>70790</td>\n",
              "            <td>41.0602216</td>\n",
              "            <td>-111.9710529</td>\n",
              "        </tr>\n",
              "        <tr>\n",
              "            <td>441</td>\n",
              "            <td>Taylorsville</td>\n",
              "            <td>Utah</td>\n",
              "            <td>60519</td>\n",
              "            <td>40.6677248</td>\n",
              "            <td>-111.9388258</td>\n",
              "        </tr>\n",
              "        <tr>\n",
              "            <td>194</td>\n",
              "            <td>South Jordan</td>\n",
              "            <td>Utah</td>\n",
              "            <td>59366</td>\n",
              "            <td>40.5621704</td>\n",
              "            <td>-111.929658</td>\n",
              "        </tr>\n",
              "        <tr>\n",
              "            <td>501</td>\n",
              "            <td>Lehi</td>\n",
              "            <td>Utah</td>\n",
              "            <td>54382</td>\n",
              "            <td>40.3916172</td>\n",
              "            <td>-111.8507662</td>\n",
              "        </tr>\n",
              "        <tr>\n",
              "            <td>32</td>\n",
              "            <td>Logan</td>\n",
              "            <td>Utah</td>\n",
              "            <td>48913</td>\n",
              "            <td>41.7369803</td>\n",
              "            <td>-111.8338359</td>\n",
              "        </tr>\n",
              "        <tr>\n",
              "            <td>604</td>\n",
              "            <td>Murray</td>\n",
              "            <td>Utah</td>\n",
              "            <td>48612</td>\n",
              "            <td>40.6668916</td>\n",
              "            <td>-111.8879909</td>\n",
              "        </tr>\n",
              "        <tr>\n",
              "            <td>763</td>\n",
              "            <td>Draper</td>\n",
              "            <td>Utah</td>\n",
              "            <td>45285</td>\n",
              "            <td>40.5246711</td>\n",
              "            <td>-111.8638226</td>\n",
              "        </tr>\n",
              "        <tr>\n",
              "            <td>286</td>\n",
              "            <td>Bountiful</td>\n",
              "            <td>Utah</td>\n",
              "            <td>43023</td>\n",
              "            <td>40.8893895</td>\n",
              "            <td>-111.880771</td>\n",
              "        </tr>\n",
              "        <tr>\n",
              "            <td>467</td>\n",
              "            <td>Riverton</td>\n",
              "            <td>Utah</td>\n",
              "            <td>40921</td>\n",
              "            <td>40.521893</td>\n",
              "            <td>-111.9391023</td>\n",
              "        </tr>\n",
              "        <tr>\n",
              "            <td>738</td>\n",
              "            <td>Roy</td>\n",
              "            <td>Utah</td>\n",
              "            <td>37733</td>\n",
              "            <td>41.1616108</td>\n",
              "            <td>-112.0263313</td>\n",
              "        </tr>\n",
              "        <tr>\n",
              "            <td>435</td>\n",
              "            <td>Spanish Fork</td>\n",
              "            <td>Utah</td>\n",
              "            <td>36956</td>\n",
              "            <td>40.114955</td>\n",
              "            <td>-111.654923</td>\n",
              "        </tr>\n",
              "    </tbody>\n",
              "</table>"
            ]
          },
          "metadata": {},
          "execution_count": 11
        }
      ]
    },
    {
      "cell_type": "code",
      "source": [
        "%%sql\n",
        "select *\n",
        "from data\n",
        "where State='Utah'\n",
        "order by Population asc\n",
        ";"
      ],
      "metadata": {
        "colab": {
          "base_uri": "https://localhost:8080/",
          "height": 464
        },
        "id": "QIyF8wpRb_8F",
        "outputId": "23616990-6aef-47ac-eee9-8f311e6b38ad"
      },
      "execution_count": null,
      "outputs": [
        {
          "output_type": "display_data",
          "data": {
            "text/plain": [
              "Running query in 'sqlite:///City.db'"
            ],
            "text/html": [
              "<span style=\"None\">Running query in &#x27;sqlite:///City.db&#x27;</span>"
            ]
          },
          "metadata": {}
        },
        {
          "output_type": "execute_result",
          "data": {
            "text/plain": [
              "+-----+------------------+-------+------------+--------------------+---------------------+\n",
              "|  ID |       City       | State | Population |        lat         |         lon         |\n",
              "+-----+------------------+-------+------------+--------------------+---------------------+\n",
              "| 435 |   Spanish Fork   |  Utah |   36956    |     40.114955      |     -111.654923     |\n",
              "| 738 |       Roy        |  Utah |   37733    |     41.1616108     |     -112.0263313    |\n",
              "| 467 |     Riverton     |  Utah |   40921    |     40.521893      |     -111.9391023    |\n",
              "| 286 |    Bountiful     |  Utah |   43023    |     40.8893895     |     -111.880771     |\n",
              "| 763 |      Draper      |  Utah |   45285    |     40.5246711     |     -111.8638226    |\n",
              "| 604 |      Murray      |  Utah |   48612    |     40.6668916     |     -111.8879909    |\n",
              "|  32 |      Logan       |  Utah |   48913    |     41.7369803     |     -111.8338359    |\n",
              "| 501 |       Lehi       |  Utah |   54382    |     40.3916172     |     -111.8507662    |\n",
              "| 194 |   South Jordan   |  Utah |   59366    |     40.5621704     |     -111.929658     |\n",
              "| 441 |   Taylorsville   |  Utah |   60519    |     40.6677248     |     -111.9388258    |\n",
              "| 569 |      Layton      |  Utah |   70790    |     41.0602216     |     -111.9710529    |\n",
              "| 857 |    St. George    |  Utah |   76817    |     37.0965278     |     -113.5684164    |\n",
              "| 534 |      Ogden       |  Utah |   84249    |       41.223       |     -111.9738304    |\n",
              "| 631 |      Sandy       |  Utah |   90231    | 40.564978100000005 |     -111.8389726    |\n",
              "| 677 |       Orem       |  Utah |   91648    |     40.2968979     | -111.69464750000002 |\n",
              "| 956 |   West Jordan    |  Utah |   110077   |     40.6096698     |     -111.9391031    |\n",
              "| 382 |      Provo       |  Utah |   116288   |     40.2338438     |     -111.6585337    |\n",
              "| 674 | West Valley City |  Utah |   133579   | 40.691613200000006 |     -112.0010501    |\n",
              "| 965 |  Salt Lake City  |  Utah |   191180   |     40.7607793     | -111.89104740000002 |\n",
              "+-----+------------------+-------+------------+--------------------+---------------------+"
            ],
            "text/html": [
              "<table>\n",
              "    <thead>\n",
              "        <tr>\n",
              "            <th>ID</th>\n",
              "            <th>City</th>\n",
              "            <th>State</th>\n",
              "            <th>Population</th>\n",
              "            <th>lat</th>\n",
              "            <th>lon</th>\n",
              "        </tr>\n",
              "    </thead>\n",
              "    <tbody>\n",
              "        <tr>\n",
              "            <td>435</td>\n",
              "            <td>Spanish Fork</td>\n",
              "            <td>Utah</td>\n",
              "            <td>36956</td>\n",
              "            <td>40.114955</td>\n",
              "            <td>-111.654923</td>\n",
              "        </tr>\n",
              "        <tr>\n",
              "            <td>738</td>\n",
              "            <td>Roy</td>\n",
              "            <td>Utah</td>\n",
              "            <td>37733</td>\n",
              "            <td>41.1616108</td>\n",
              "            <td>-112.0263313</td>\n",
              "        </tr>\n",
              "        <tr>\n",
              "            <td>467</td>\n",
              "            <td>Riverton</td>\n",
              "            <td>Utah</td>\n",
              "            <td>40921</td>\n",
              "            <td>40.521893</td>\n",
              "            <td>-111.9391023</td>\n",
              "        </tr>\n",
              "        <tr>\n",
              "            <td>286</td>\n",
              "            <td>Bountiful</td>\n",
              "            <td>Utah</td>\n",
              "            <td>43023</td>\n",
              "            <td>40.8893895</td>\n",
              "            <td>-111.880771</td>\n",
              "        </tr>\n",
              "        <tr>\n",
              "            <td>763</td>\n",
              "            <td>Draper</td>\n",
              "            <td>Utah</td>\n",
              "            <td>45285</td>\n",
              "            <td>40.5246711</td>\n",
              "            <td>-111.8638226</td>\n",
              "        </tr>\n",
              "        <tr>\n",
              "            <td>604</td>\n",
              "            <td>Murray</td>\n",
              "            <td>Utah</td>\n",
              "            <td>48612</td>\n",
              "            <td>40.6668916</td>\n",
              "            <td>-111.8879909</td>\n",
              "        </tr>\n",
              "        <tr>\n",
              "            <td>32</td>\n",
              "            <td>Logan</td>\n",
              "            <td>Utah</td>\n",
              "            <td>48913</td>\n",
              "            <td>41.7369803</td>\n",
              "            <td>-111.8338359</td>\n",
              "        </tr>\n",
              "        <tr>\n",
              "            <td>501</td>\n",
              "            <td>Lehi</td>\n",
              "            <td>Utah</td>\n",
              "            <td>54382</td>\n",
              "            <td>40.3916172</td>\n",
              "            <td>-111.8507662</td>\n",
              "        </tr>\n",
              "        <tr>\n",
              "            <td>194</td>\n",
              "            <td>South Jordan</td>\n",
              "            <td>Utah</td>\n",
              "            <td>59366</td>\n",
              "            <td>40.5621704</td>\n",
              "            <td>-111.929658</td>\n",
              "        </tr>\n",
              "        <tr>\n",
              "            <td>441</td>\n",
              "            <td>Taylorsville</td>\n",
              "            <td>Utah</td>\n",
              "            <td>60519</td>\n",
              "            <td>40.6677248</td>\n",
              "            <td>-111.9388258</td>\n",
              "        </tr>\n",
              "        <tr>\n",
              "            <td>569</td>\n",
              "            <td>Layton</td>\n",
              "            <td>Utah</td>\n",
              "            <td>70790</td>\n",
              "            <td>41.0602216</td>\n",
              "            <td>-111.9710529</td>\n",
              "        </tr>\n",
              "        <tr>\n",
              "            <td>857</td>\n",
              "            <td>St. George</td>\n",
              "            <td>Utah</td>\n",
              "            <td>76817</td>\n",
              "            <td>37.0965278</td>\n",
              "            <td>-113.5684164</td>\n",
              "        </tr>\n",
              "        <tr>\n",
              "            <td>534</td>\n",
              "            <td>Ogden</td>\n",
              "            <td>Utah</td>\n",
              "            <td>84249</td>\n",
              "            <td>41.223</td>\n",
              "            <td>-111.9738304</td>\n",
              "        </tr>\n",
              "        <tr>\n",
              "            <td>631</td>\n",
              "            <td>Sandy</td>\n",
              "            <td>Utah</td>\n",
              "            <td>90231</td>\n",
              "            <td>40.564978100000005</td>\n",
              "            <td>-111.8389726</td>\n",
              "        </tr>\n",
              "        <tr>\n",
              "            <td>677</td>\n",
              "            <td>Orem</td>\n",
              "            <td>Utah</td>\n",
              "            <td>91648</td>\n",
              "            <td>40.2968979</td>\n",
              "            <td>-111.69464750000002</td>\n",
              "        </tr>\n",
              "        <tr>\n",
              "            <td>956</td>\n",
              "            <td>West Jordan</td>\n",
              "            <td>Utah</td>\n",
              "            <td>110077</td>\n",
              "            <td>40.6096698</td>\n",
              "            <td>-111.9391031</td>\n",
              "        </tr>\n",
              "        <tr>\n",
              "            <td>382</td>\n",
              "            <td>Provo</td>\n",
              "            <td>Utah</td>\n",
              "            <td>116288</td>\n",
              "            <td>40.2338438</td>\n",
              "            <td>-111.6585337</td>\n",
              "        </tr>\n",
              "        <tr>\n",
              "            <td>674</td>\n",
              "            <td>West Valley City</td>\n",
              "            <td>Utah</td>\n",
              "            <td>133579</td>\n",
              "            <td>40.691613200000006</td>\n",
              "            <td>-112.0010501</td>\n",
              "        </tr>\n",
              "        <tr>\n",
              "            <td>965</td>\n",
              "            <td>Salt Lake City</td>\n",
              "            <td>Utah</td>\n",
              "            <td>191180</td>\n",
              "            <td>40.7607793</td>\n",
              "            <td>-111.89104740000002</td>\n",
              "        </tr>\n",
              "    </tbody>\n",
              "</table>"
            ]
          },
          "metadata": {},
          "execution_count": 12
        }
      ]
    },
    {
      "cell_type": "code",
      "source": [
        "%%sql\n",
        "select *\n",
        "from data\n",
        "where State='Utah'\n",
        "order by Population desc\n",
        "limit 10\n",
        ";"
      ],
      "metadata": {
        "colab": {
          "base_uri": "https://localhost:8080/",
          "height": 271
        },
        "id": "9NhmYK_dcCi6",
        "outputId": "ea2b3c46-b712-48d5-a991-76e9d94a5aef"
      },
      "execution_count": null,
      "outputs": [
        {
          "output_type": "display_data",
          "data": {
            "text/plain": [
              "Running query in 'sqlite:///City.db'"
            ],
            "text/html": [
              "<span style=\"None\">Running query in &#x27;sqlite:///City.db&#x27;</span>"
            ]
          },
          "metadata": {}
        },
        {
          "output_type": "execute_result",
          "data": {
            "text/plain": [
              "+-----+------------------+-------+------------+--------------------+---------------------+\n",
              "|  ID |       City       | State | Population |        lat         |         lon         |\n",
              "+-----+------------------+-------+------------+--------------------+---------------------+\n",
              "| 965 |  Salt Lake City  |  Utah |   191180   |     40.7607793     | -111.89104740000002 |\n",
              "| 674 | West Valley City |  Utah |   133579   | 40.691613200000006 |     -112.0010501    |\n",
              "| 382 |      Provo       |  Utah |   116288   |     40.2338438     |     -111.6585337    |\n",
              "| 956 |   West Jordan    |  Utah |   110077   |     40.6096698     |     -111.9391031    |\n",
              "| 677 |       Orem       |  Utah |   91648    |     40.2968979     | -111.69464750000002 |\n",
              "| 631 |      Sandy       |  Utah |   90231    | 40.564978100000005 |     -111.8389726    |\n",
              "| 534 |      Ogden       |  Utah |   84249    |       41.223       |     -111.9738304    |\n",
              "| 857 |    St. George    |  Utah |   76817    |     37.0965278     |     -113.5684164    |\n",
              "| 569 |      Layton      |  Utah |   70790    |     41.0602216     |     -111.9710529    |\n",
              "| 441 |   Taylorsville   |  Utah |   60519    |     40.6677248     |     -111.9388258    |\n",
              "+-----+------------------+-------+------------+--------------------+---------------------+"
            ],
            "text/html": [
              "<table>\n",
              "    <thead>\n",
              "        <tr>\n",
              "            <th>ID</th>\n",
              "            <th>City</th>\n",
              "            <th>State</th>\n",
              "            <th>Population</th>\n",
              "            <th>lat</th>\n",
              "            <th>lon</th>\n",
              "        </tr>\n",
              "    </thead>\n",
              "    <tbody>\n",
              "        <tr>\n",
              "            <td>965</td>\n",
              "            <td>Salt Lake City</td>\n",
              "            <td>Utah</td>\n",
              "            <td>191180</td>\n",
              "            <td>40.7607793</td>\n",
              "            <td>-111.89104740000002</td>\n",
              "        </tr>\n",
              "        <tr>\n",
              "            <td>674</td>\n",
              "            <td>West Valley City</td>\n",
              "            <td>Utah</td>\n",
              "            <td>133579</td>\n",
              "            <td>40.691613200000006</td>\n",
              "            <td>-112.0010501</td>\n",
              "        </tr>\n",
              "        <tr>\n",
              "            <td>382</td>\n",
              "            <td>Provo</td>\n",
              "            <td>Utah</td>\n",
              "            <td>116288</td>\n",
              "            <td>40.2338438</td>\n",
              "            <td>-111.6585337</td>\n",
              "        </tr>\n",
              "        <tr>\n",
              "            <td>956</td>\n",
              "            <td>West Jordan</td>\n",
              "            <td>Utah</td>\n",
              "            <td>110077</td>\n",
              "            <td>40.6096698</td>\n",
              "            <td>-111.9391031</td>\n",
              "        </tr>\n",
              "        <tr>\n",
              "            <td>677</td>\n",
              "            <td>Orem</td>\n",
              "            <td>Utah</td>\n",
              "            <td>91648</td>\n",
              "            <td>40.2968979</td>\n",
              "            <td>-111.69464750000002</td>\n",
              "        </tr>\n",
              "        <tr>\n",
              "            <td>631</td>\n",
              "            <td>Sandy</td>\n",
              "            <td>Utah</td>\n",
              "            <td>90231</td>\n",
              "            <td>40.564978100000005</td>\n",
              "            <td>-111.8389726</td>\n",
              "        </tr>\n",
              "        <tr>\n",
              "            <td>534</td>\n",
              "            <td>Ogden</td>\n",
              "            <td>Utah</td>\n",
              "            <td>84249</td>\n",
              "            <td>41.223</td>\n",
              "            <td>-111.9738304</td>\n",
              "        </tr>\n",
              "        <tr>\n",
              "            <td>857</td>\n",
              "            <td>St. George</td>\n",
              "            <td>Utah</td>\n",
              "            <td>76817</td>\n",
              "            <td>37.0965278</td>\n",
              "            <td>-113.5684164</td>\n",
              "        </tr>\n",
              "        <tr>\n",
              "            <td>569</td>\n",
              "            <td>Layton</td>\n",
              "            <td>Utah</td>\n",
              "            <td>70790</td>\n",
              "            <td>41.0602216</td>\n",
              "            <td>-111.9710529</td>\n",
              "        </tr>\n",
              "        <tr>\n",
              "            <td>441</td>\n",
              "            <td>Taylorsville</td>\n",
              "            <td>Utah</td>\n",
              "            <td>60519</td>\n",
              "            <td>40.6677248</td>\n",
              "            <td>-111.9388258</td>\n",
              "        </tr>\n",
              "    </tbody>\n",
              "</table>"
            ]
          },
          "metadata": {},
          "execution_count": 14
        }
      ]
    },
    {
      "cell_type": "code",
      "source": [
        "# SQL: Database\n",
        "# Python:\n",
        "# DBA\n",
        "# ANLY 3250: SQL\n",
        "# Excel, Access, SQL Server\n",
        "# Oracle\n",
        "# SQLite, PostgreSQL, MYSQL\n",
        "# SQLite\n",
        "# SQL: structured query language\n"
      ],
      "metadata": {
        "id": "FzVzfeX_fTEa"
      },
      "execution_count": null,
      "outputs": []
    },
    {
      "cell_type": "code",
      "source": [
        "%pip install jupysql duckdb duckdb-engine --quiet\n",
        "# Load the SQL extension\n",
        "%load_ext sql\n",
        "# Setting: Show all rows\n",
        "%config SqlMagic.displaylimit = None"
      ],
      "metadata": {
        "colab": {
          "base_uri": "https://localhost:8080/",
          "height": 104
        },
        "id": "ioUXIRSNiETl",
        "outputId": "17ce14a1-5a84-42f0-a02f-33cd89962608"
      },
      "execution_count": null,
      "outputs": [
        {
          "output_type": "stream",
          "name": "stdout",
          "text": [
            "\u001b[?25l   \u001b[90m━━━━━━━━━━━━━━━━━━━━━━━━━━━━━━━━━━━━━━━━\u001b[0m \u001b[32m0.0/95.1 kB\u001b[0m \u001b[31m?\u001b[0m eta \u001b[36m-:--:--\u001b[0m\r\u001b[2K   \u001b[90m━━━━━━━━━━━━━━━━━━━━━━━━━━━━━━━━━━━━━━━━\u001b[0m \u001b[32m95.1/95.1 kB\u001b[0m \u001b[31m3.4 MB/s\u001b[0m eta \u001b[36m0:00:00\u001b[0m\n",
            "\u001b[?25h\u001b[?25l   \u001b[90m━━━━━━━━━━━━━━━━━━━━━━━━━━━━━━━━━━━━━━━━\u001b[0m \u001b[32m0.0/49.7 kB\u001b[0m \u001b[31m?\u001b[0m eta \u001b[36m-:--:--\u001b[0m\r\u001b[2K   \u001b[90m━━━━━━━━━━━━━━━━━━━━━━━━━━━━━━━━━━━━━━━━\u001b[0m \u001b[32m49.7/49.7 kB\u001b[0m \u001b[31m4.2 MB/s\u001b[0m eta \u001b[36m0:00:00\u001b[0m\n",
            "\u001b[?25h\u001b[?25l   \u001b[90m━━━━━━━━━━━━━━━━━━━━━━━━━━━━━━━━━━━━━━━━\u001b[0m \u001b[32m0.0/192.8 kB\u001b[0m \u001b[31m?\u001b[0m eta \u001b[36m-:--:--\u001b[0m\r\u001b[2K   \u001b[90m━━━━━━━━━━━━━━━━━━━━━━━━━━━━━━━━━━━━━━━━\u001b[0m \u001b[32m192.8/192.8 kB\u001b[0m \u001b[31m8.9 MB/s\u001b[0m eta \u001b[36m0:00:00\u001b[0m\n",
            "\u001b[?25h\u001b[?25l   \u001b[90m━━━━━━━━━━━━━━━━━━━━━━━━━━━━━━━━━━━━━━━━\u001b[0m \u001b[32m0.0/138.7 kB\u001b[0m \u001b[31m?\u001b[0m eta \u001b[36m-:--:--\u001b[0m\r\u001b[2K   \u001b[90m━━━━━━━━━━━━━━━━━━━━━━━━━━━━━━━━━━━━━━━━\u001b[0m \u001b[32m138.7/138.7 kB\u001b[0m \u001b[31m13.6 MB/s\u001b[0m eta \u001b[36m0:00:00\u001b[0m\n",
            "\u001b[?25h"
          ]
        },
        {
          "output_type": "display_data",
          "data": {
            "text/plain": [
              "displaylimit: Value None will be treated as 0 (no limit)"
            ],
            "text/html": [
              "<span style=\"None\">displaylimit: Value None will be treated as 0 (no limit)</span>"
            ]
          },
          "metadata": {}
        }
      ]
    },
    {
      "cell_type": "code",
      "source": [
        "%pwd"
      ],
      "metadata": {
        "colab": {
          "base_uri": "https://localhost:8080/",
          "height": 35
        },
        "id": "3avavKjwiaw6",
        "outputId": "e5a45dbe-0948-41f2-f539-916b80416c8a"
      },
      "execution_count": null,
      "outputs": [
        {
          "output_type": "execute_result",
          "data": {
            "text/plain": [
              "'/content/drive/MyDrive/Colab Notebooks/ANLY2500_01_Fall2025/LC/L23'"
            ],
            "application/vnd.google.colaboratory.intrinsic+json": {
              "type": "string"
            }
          },
          "metadata": {},
          "execution_count": 5
        }
      ]
    },
    {
      "cell_type": "code",
      "source": [
        "%ls"
      ],
      "metadata": {
        "colab": {
          "base_uri": "https://localhost:8080/"
        },
        "id": "69gjoHo7ij5k",
        "outputId": "a3e40608-4424-4c9a-a343-6befcca6566f"
      },
      "execution_count": null,
      "outputs": [
        {
          "output_type": "stream",
          "name": "stdout",
          "text": [
            "City.db  L23_01.ipynb\n"
          ]
        }
      ]
    },
    {
      "cell_type": "code",
      "source": [
        "%sql sqlite:///City.db"
      ],
      "metadata": {
        "colab": {
          "base_uri": "https://localhost:8080/",
          "height": 34
        },
        "id": "dw1hfCSLindc",
        "outputId": "9b63240e-d693-4fc5-ff17-cedae7b92077"
      },
      "execution_count": null,
      "outputs": [
        {
          "output_type": "display_data",
          "data": {
            "text/plain": [
              "Connecting to 'sqlite:///City.db'"
            ],
            "text/html": [
              "<span style=\"None\">Connecting to &#x27;sqlite:///City.db&#x27;</span>"
            ]
          },
          "metadata": {}
        }
      ]
    },
    {
      "cell_type": "code",
      "source": [
        "%sqlcmd tables"
      ],
      "metadata": {
        "colab": {
          "base_uri": "https://localhost:8080/",
          "height": 61
        },
        "id": "7RaIzt8Ri8pp",
        "outputId": "43ade0ef-ad92-48de-a413-9887e038434a"
      },
      "execution_count": null,
      "outputs": [
        {
          "output_type": "execute_result",
          "data": {
            "text/plain": [
              "+------+\n",
              "| Name |\n",
              "+------+\n",
              "| data |\n",
              "+------+"
            ],
            "text/html": [
              "<table>\n",
              "    <thead>\n",
              "        <tr>\n",
              "            <th>Name</th>\n",
              "        </tr>\n",
              "    </thead>\n",
              "    <tbody>\n",
              "        <tr>\n",
              "            <td>data</td>\n",
              "        </tr>\n",
              "    </tbody>\n",
              "</table>"
            ]
          },
          "metadata": {},
          "execution_count": 8
        }
      ]
    },
    {
      "cell_type": "code",
      "source": [
        "%sqlcmd columns -t data"
      ],
      "metadata": {
        "colab": {
          "base_uri": "https://localhost:8080/",
          "height": 167
        },
        "id": "WZTLpBXIjTCx",
        "outputId": "878ac2c5-f3ee-4261-9aa0-fd525baa503c"
      },
      "execution_count": null,
      "outputs": [
        {
          "output_type": "execute_result",
          "data": {
            "text/plain": [
              "+------------+---------+----------+---------+-------------+\n",
              "|    name    |   type  | nullable | default | primary_key |\n",
              "+------------+---------+----------+---------+-------------+\n",
              "|     ID     | INTEGER |  False   |   None  |      1      |\n",
              "|    City    |   TEXT  |   True   |   None  |      0      |\n",
              "|   State    |   TEXT  |   True   |   None  |      0      |\n",
              "| Population | INTEGER |   True   |   None  |      0      |\n",
              "|    lat     |   REAL  |   True   |   None  |      0      |\n",
              "|    lon     |   REAL  |   True   |   None  |      0      |\n",
              "+------------+---------+----------+---------+-------------+"
            ],
            "text/html": [
              "<table>\n",
              "    <thead>\n",
              "        <tr>\n",
              "            <th>name</th>\n",
              "            <th>type</th>\n",
              "            <th>nullable</th>\n",
              "            <th>default</th>\n",
              "            <th>primary_key</th>\n",
              "        </tr>\n",
              "    </thead>\n",
              "    <tbody>\n",
              "        <tr>\n",
              "            <td>ID</td>\n",
              "            <td>INTEGER</td>\n",
              "            <td>False</td>\n",
              "            <td>None</td>\n",
              "            <td>1</td>\n",
              "        </tr>\n",
              "        <tr>\n",
              "            <td>City</td>\n",
              "            <td>TEXT</td>\n",
              "            <td>True</td>\n",
              "            <td>None</td>\n",
              "            <td>0</td>\n",
              "        </tr>\n",
              "        <tr>\n",
              "            <td>State</td>\n",
              "            <td>TEXT</td>\n",
              "            <td>True</td>\n",
              "            <td>None</td>\n",
              "            <td>0</td>\n",
              "        </tr>\n",
              "        <tr>\n",
              "            <td>Population</td>\n",
              "            <td>INTEGER</td>\n",
              "            <td>True</td>\n",
              "            <td>None</td>\n",
              "            <td>0</td>\n",
              "        </tr>\n",
              "        <tr>\n",
              "            <td>lat</td>\n",
              "            <td>REAL</td>\n",
              "            <td>True</td>\n",
              "            <td>None</td>\n",
              "            <td>0</td>\n",
              "        </tr>\n",
              "        <tr>\n",
              "            <td>lon</td>\n",
              "            <td>REAL</td>\n",
              "            <td>True</td>\n",
              "            <td>None</td>\n",
              "            <td>0</td>\n",
              "        </tr>\n",
              "    </tbody>\n",
              "</table>"
            ]
          },
          "metadata": {},
          "execution_count": 9
        }
      ]
    },
    {
      "cell_type": "code",
      "source": [
        "%%sql\n",
        "select *\n",
        "from data\n",
        "limit 5\n",
        ";"
      ],
      "metadata": {
        "colab": {
          "base_uri": "https://localhost:8080/",
          "height": 163
        },
        "id": "8Aci43qTkGsX",
        "outputId": "375a5167-4a20-4dbb-afb1-552e4ed1f1a8"
      },
      "execution_count": null,
      "outputs": [
        {
          "output_type": "display_data",
          "data": {
            "text/plain": [
              "Running query in 'sqlite:///City.db'"
            ],
            "text/html": [
              "<span style=\"None\">Running query in &#x27;sqlite:///City.db&#x27;</span>"
            ]
          },
          "metadata": {}
        },
        {
          "output_type": "execute_result",
          "data": {
            "text/plain": [
              "+----+------------+----------------+------------+--------------------+--------------+\n",
              "| ID |    City    |     State      | Population |        lat         |     lon      |\n",
              "+----+------------+----------------+------------+--------------------+--------------+\n",
              "| 1  | Marysville |   Washington   |   63269    |     48.0517637     | -122.1770818 |\n",
              "| 2  |   Perris   |   California   |   72326    |     33.7825194     | -117.2286478 |\n",
              "| 3  | Cleveland  |      Ohio      |   390113   |      41.49932      | -81.6943605  |\n",
              "| 4  | Worcester  | Massachusetts  |   182544   | 42.262593200000005 | -71.8022934  |\n",
              "| 5  |  Columbia  | South Carolina |   133358   |     34.0007104     | -81.0348144  |\n",
              "+----+------------+----------------+------------+--------------------+--------------+"
            ],
            "text/html": [
              "<table>\n",
              "    <thead>\n",
              "        <tr>\n",
              "            <th>ID</th>\n",
              "            <th>City</th>\n",
              "            <th>State</th>\n",
              "            <th>Population</th>\n",
              "            <th>lat</th>\n",
              "            <th>lon</th>\n",
              "        </tr>\n",
              "    </thead>\n",
              "    <tbody>\n",
              "        <tr>\n",
              "            <td>1</td>\n",
              "            <td>Marysville</td>\n",
              "            <td>Washington</td>\n",
              "            <td>63269</td>\n",
              "            <td>48.0517637</td>\n",
              "            <td>-122.1770818</td>\n",
              "        </tr>\n",
              "        <tr>\n",
              "            <td>2</td>\n",
              "            <td>Perris</td>\n",
              "            <td>California</td>\n",
              "            <td>72326</td>\n",
              "            <td>33.7825194</td>\n",
              "            <td>-117.2286478</td>\n",
              "        </tr>\n",
              "        <tr>\n",
              "            <td>3</td>\n",
              "            <td>Cleveland</td>\n",
              "            <td>Ohio</td>\n",
              "            <td>390113</td>\n",
              "            <td>41.49932</td>\n",
              "            <td>-81.6943605</td>\n",
              "        </tr>\n",
              "        <tr>\n",
              "            <td>4</td>\n",
              "            <td>Worcester</td>\n",
              "            <td>Massachusetts</td>\n",
              "            <td>182544</td>\n",
              "            <td>42.262593200000005</td>\n",
              "            <td>-71.8022934</td>\n",
              "        </tr>\n",
              "        <tr>\n",
              "            <td>5</td>\n",
              "            <td>Columbia</td>\n",
              "            <td>South Carolina</td>\n",
              "            <td>133358</td>\n",
              "            <td>34.0007104</td>\n",
              "            <td>-81.0348144</td>\n",
              "        </tr>\n",
              "    </tbody>\n",
              "</table>"
            ]
          },
          "metadata": {},
          "execution_count": 11
        }
      ]
    },
    {
      "cell_type": "code",
      "source": [
        "%%sql\n",
        "select City,\n",
        "       Population\n",
        "from data\n",
        "limit 5\n",
        ";"
      ],
      "metadata": {
        "colab": {
          "base_uri": "https://localhost:8080/",
          "height": 163
        },
        "id": "RVH3ev50lGPo",
        "outputId": "eb408b68-846e-4891-9ff1-68157a862184"
      },
      "execution_count": null,
      "outputs": [
        {
          "output_type": "display_data",
          "data": {
            "text/plain": [
              "Running query in 'sqlite:///City.db'"
            ],
            "text/html": [
              "<span style=\"None\">Running query in &#x27;sqlite:///City.db&#x27;</span>"
            ]
          },
          "metadata": {}
        },
        {
          "output_type": "execute_result",
          "data": {
            "text/plain": [
              "+------------+------------+\n",
              "|    City    | Population |\n",
              "+------------+------------+\n",
              "| Marysville |   63269    |\n",
              "|   Perris   |   72326    |\n",
              "| Cleveland  |   390113   |\n",
              "| Worcester  |   182544   |\n",
              "|  Columbia  |   133358   |\n",
              "+------------+------------+"
            ],
            "text/html": [
              "<table>\n",
              "    <thead>\n",
              "        <tr>\n",
              "            <th>City</th>\n",
              "            <th>Population</th>\n",
              "        </tr>\n",
              "    </thead>\n",
              "    <tbody>\n",
              "        <tr>\n",
              "            <td>Marysville</td>\n",
              "            <td>63269</td>\n",
              "        </tr>\n",
              "        <tr>\n",
              "            <td>Perris</td>\n",
              "            <td>72326</td>\n",
              "        </tr>\n",
              "        <tr>\n",
              "            <td>Cleveland</td>\n",
              "            <td>390113</td>\n",
              "        </tr>\n",
              "        <tr>\n",
              "            <td>Worcester</td>\n",
              "            <td>182544</td>\n",
              "        </tr>\n",
              "        <tr>\n",
              "            <td>Columbia</td>\n",
              "            <td>133358</td>\n",
              "        </tr>\n",
              "    </tbody>\n",
              "</table>"
            ]
          },
          "metadata": {},
          "execution_count": 14
        }
      ]
    },
    {
      "cell_type": "code",
      "source": [
        "%%sql\n",
        "select City as C,\n",
        "       Population as P\n",
        "from data\n",
        "limit 5\n",
        ";"
      ],
      "metadata": {
        "colab": {
          "base_uri": "https://localhost:8080/",
          "height": 163
        },
        "id": "PKS4NjEwloiT",
        "outputId": "29b07818-00d2-4d02-9b15-3487d74c2a5f"
      },
      "execution_count": null,
      "outputs": [
        {
          "output_type": "display_data",
          "data": {
            "text/plain": [
              "Running query in 'sqlite:///City.db'"
            ],
            "text/html": [
              "<span style=\"None\">Running query in &#x27;sqlite:///City.db&#x27;</span>"
            ]
          },
          "metadata": {}
        },
        {
          "output_type": "execute_result",
          "data": {
            "text/plain": [
              "+------------+--------+\n",
              "|     C      |   P    |\n",
              "+------------+--------+\n",
              "| Marysville | 63269  |\n",
              "|   Perris   | 72326  |\n",
              "| Cleveland  | 390113 |\n",
              "| Worcester  | 182544 |\n",
              "|  Columbia  | 133358 |\n",
              "+------------+--------+"
            ],
            "text/html": [
              "<table>\n",
              "    <thead>\n",
              "        <tr>\n",
              "            <th>C</th>\n",
              "            <th>P</th>\n",
              "        </tr>\n",
              "    </thead>\n",
              "    <tbody>\n",
              "        <tr>\n",
              "            <td>Marysville</td>\n",
              "            <td>63269</td>\n",
              "        </tr>\n",
              "        <tr>\n",
              "            <td>Perris</td>\n",
              "            <td>72326</td>\n",
              "        </tr>\n",
              "        <tr>\n",
              "            <td>Cleveland</td>\n",
              "            <td>390113</td>\n",
              "        </tr>\n",
              "        <tr>\n",
              "            <td>Worcester</td>\n",
              "            <td>182544</td>\n",
              "        </tr>\n",
              "        <tr>\n",
              "            <td>Columbia</td>\n",
              "            <td>133358</td>\n",
              "        </tr>\n",
              "    </tbody>\n",
              "</table>"
            ]
          },
          "metadata": {},
          "execution_count": 17
        }
      ]
    },
    {
      "cell_type": "code",
      "source": [
        "%%sql\n",
        "select City as C,\n",
        "       Population as P,\n",
        "       Population+100 as P100,\n",
        "       Population*1.03 as P3P\n",
        "from data\n",
        "limit 5\n",
        ";"
      ],
      "metadata": {
        "colab": {
          "base_uri": "https://localhost:8080/",
          "height": 163
        },
        "id": "-M55HvmWmFNG",
        "outputId": "18630d67-e215-40e8-c372-fab7eb19e212"
      },
      "execution_count": null,
      "outputs": [
        {
          "output_type": "display_data",
          "data": {
            "text/plain": [
              "Running query in 'sqlite:///City.db'"
            ],
            "text/html": [
              "<span style=\"None\">Running query in &#x27;sqlite:///City.db&#x27;</span>"
            ]
          },
          "metadata": {}
        },
        {
          "output_type": "execute_result",
          "data": {
            "text/plain": [
              "+------------+--------+--------+-----------+\n",
              "|     C      |   P    |  P100  |    P3P    |\n",
              "+------------+--------+--------+-----------+\n",
              "| Marysville | 63269  | 63369  |  65167.07 |\n",
              "|   Perris   | 72326  | 72426  |  74495.78 |\n",
              "| Cleveland  | 390113 | 390213 | 401816.39 |\n",
              "| Worcester  | 182544 | 182644 | 188020.32 |\n",
              "|  Columbia  | 133358 | 133458 | 137358.74 |\n",
              "+------------+--------+--------+-----------+"
            ],
            "text/html": [
              "<table>\n",
              "    <thead>\n",
              "        <tr>\n",
              "            <th>C</th>\n",
              "            <th>P</th>\n",
              "            <th>P100</th>\n",
              "            <th>P3P</th>\n",
              "        </tr>\n",
              "    </thead>\n",
              "    <tbody>\n",
              "        <tr>\n",
              "            <td>Marysville</td>\n",
              "            <td>63269</td>\n",
              "            <td>63369</td>\n",
              "            <td>65167.07</td>\n",
              "        </tr>\n",
              "        <tr>\n",
              "            <td>Perris</td>\n",
              "            <td>72326</td>\n",
              "            <td>72426</td>\n",
              "            <td>74495.78</td>\n",
              "        </tr>\n",
              "        <tr>\n",
              "            <td>Cleveland</td>\n",
              "            <td>390113</td>\n",
              "            <td>390213</td>\n",
              "            <td>401816.39</td>\n",
              "        </tr>\n",
              "        <tr>\n",
              "            <td>Worcester</td>\n",
              "            <td>182544</td>\n",
              "            <td>182644</td>\n",
              "            <td>188020.32</td>\n",
              "        </tr>\n",
              "        <tr>\n",
              "            <td>Columbia</td>\n",
              "            <td>133358</td>\n",
              "            <td>133458</td>\n",
              "            <td>137358.74</td>\n",
              "        </tr>\n",
              "    </tbody>\n",
              "</table>"
            ]
          },
          "metadata": {},
          "execution_count": 24
        }
      ]
    },
    {
      "cell_type": "code",
      "source": [
        "%%sql\n",
        "select City as C,\n",
        "       Population as P,\n",
        "       Population+100 as P100,\n",
        "       Population*1.03 as P3P\n",
        "from data\n",
        "where State='Utah'\n",
        ";"
      ],
      "metadata": {
        "colab": {
          "base_uri": "https://localhost:8080/",
          "height": 459
        },
        "id": "SXdL0eEGm3-1",
        "outputId": "50578eb7-9bf2-4e78-b7fd-3341e41bd1dd"
      },
      "execution_count": null,
      "outputs": [
        {
          "output_type": "display_data",
          "data": {
            "text/plain": [
              "Running query in 'sqlite:///City.db'"
            ],
            "text/html": [
              "<span style=\"None\">Running query in &#x27;sqlite:///City.db&#x27;</span>"
            ]
          },
          "metadata": {}
        },
        {
          "output_type": "execute_result",
          "data": {
            "text/plain": [
              "+------------------+--------+--------+--------------------+\n",
              "|        C         |   P    |  P100  |        P3P         |\n",
              "+------------------+--------+--------+--------------------+\n",
              "|      Logan       | 48913  | 49013  |      50380.39      |\n",
              "|   South Jordan   | 59366  | 59466  |      61146.98      |\n",
              "|    Bountiful     | 43023  | 43123  |      44313.69      |\n",
              "|      Provo       | 116288 | 116388 |     119776.64      |\n",
              "|   Spanish Fork   | 36956  | 37056  |      38064.68      |\n",
              "|   Taylorsville   | 60519  | 60619  |      62334.57      |\n",
              "|     Riverton     | 40921  | 41021  | 42148.630000000005 |\n",
              "|       Lehi       | 54382  | 54482  |      56013.46      |\n",
              "|      Ogden       | 84249  | 84349  |      86776.47      |\n",
              "|      Layton      | 70790  | 70890  |      72913.7       |\n",
              "|      Murray      | 48612  | 48712  |      50070.36      |\n",
              "|      Sandy       | 90231  | 90331  | 92937.93000000001  |\n",
              "| West Valley City | 133579 | 133679 |     137586.37      |\n",
              "|       Orem       | 91648  | 91748  |      94397.44      |\n",
              "|       Roy        | 37733  | 37833  |      38864.99      |\n",
              "|      Draper      | 45285  | 45385  |      46643.55      |\n",
              "|    St. George    | 76817  | 76917  | 79121.51000000001  |\n",
              "|   West Jordan    | 110077 | 110177 |     113379.31      |\n",
              "|  Salt Lake City  | 191180 | 191280 |      196915.4      |\n",
              "+------------------+--------+--------+--------------------+"
            ],
            "text/html": [
              "<table>\n",
              "    <thead>\n",
              "        <tr>\n",
              "            <th>C</th>\n",
              "            <th>P</th>\n",
              "            <th>P100</th>\n",
              "            <th>P3P</th>\n",
              "        </tr>\n",
              "    </thead>\n",
              "    <tbody>\n",
              "        <tr>\n",
              "            <td>Logan</td>\n",
              "            <td>48913</td>\n",
              "            <td>49013</td>\n",
              "            <td>50380.39</td>\n",
              "        </tr>\n",
              "        <tr>\n",
              "            <td>South Jordan</td>\n",
              "            <td>59366</td>\n",
              "            <td>59466</td>\n",
              "            <td>61146.98</td>\n",
              "        </tr>\n",
              "        <tr>\n",
              "            <td>Bountiful</td>\n",
              "            <td>43023</td>\n",
              "            <td>43123</td>\n",
              "            <td>44313.69</td>\n",
              "        </tr>\n",
              "        <tr>\n",
              "            <td>Provo</td>\n",
              "            <td>116288</td>\n",
              "            <td>116388</td>\n",
              "            <td>119776.64</td>\n",
              "        </tr>\n",
              "        <tr>\n",
              "            <td>Spanish Fork</td>\n",
              "            <td>36956</td>\n",
              "            <td>37056</td>\n",
              "            <td>38064.68</td>\n",
              "        </tr>\n",
              "        <tr>\n",
              "            <td>Taylorsville</td>\n",
              "            <td>60519</td>\n",
              "            <td>60619</td>\n",
              "            <td>62334.57</td>\n",
              "        </tr>\n",
              "        <tr>\n",
              "            <td>Riverton</td>\n",
              "            <td>40921</td>\n",
              "            <td>41021</td>\n",
              "            <td>42148.630000000005</td>\n",
              "        </tr>\n",
              "        <tr>\n",
              "            <td>Lehi</td>\n",
              "            <td>54382</td>\n",
              "            <td>54482</td>\n",
              "            <td>56013.46</td>\n",
              "        </tr>\n",
              "        <tr>\n",
              "            <td>Ogden</td>\n",
              "            <td>84249</td>\n",
              "            <td>84349</td>\n",
              "            <td>86776.47</td>\n",
              "        </tr>\n",
              "        <tr>\n",
              "            <td>Layton</td>\n",
              "            <td>70790</td>\n",
              "            <td>70890</td>\n",
              "            <td>72913.7</td>\n",
              "        </tr>\n",
              "        <tr>\n",
              "            <td>Murray</td>\n",
              "            <td>48612</td>\n",
              "            <td>48712</td>\n",
              "            <td>50070.36</td>\n",
              "        </tr>\n",
              "        <tr>\n",
              "            <td>Sandy</td>\n",
              "            <td>90231</td>\n",
              "            <td>90331</td>\n",
              "            <td>92937.93000000001</td>\n",
              "        </tr>\n",
              "        <tr>\n",
              "            <td>West Valley City</td>\n",
              "            <td>133579</td>\n",
              "            <td>133679</td>\n",
              "            <td>137586.37</td>\n",
              "        </tr>\n",
              "        <tr>\n",
              "            <td>Orem</td>\n",
              "            <td>91648</td>\n",
              "            <td>91748</td>\n",
              "            <td>94397.44</td>\n",
              "        </tr>\n",
              "        <tr>\n",
              "            <td>Roy</td>\n",
              "            <td>37733</td>\n",
              "            <td>37833</td>\n",
              "            <td>38864.99</td>\n",
              "        </tr>\n",
              "        <tr>\n",
              "            <td>Draper</td>\n",
              "            <td>45285</td>\n",
              "            <td>45385</td>\n",
              "            <td>46643.55</td>\n",
              "        </tr>\n",
              "        <tr>\n",
              "            <td>St. George</td>\n",
              "            <td>76817</td>\n",
              "            <td>76917</td>\n",
              "            <td>79121.51000000001</td>\n",
              "        </tr>\n",
              "        <tr>\n",
              "            <td>West Jordan</td>\n",
              "            <td>110077</td>\n",
              "            <td>110177</td>\n",
              "            <td>113379.31</td>\n",
              "        </tr>\n",
              "        <tr>\n",
              "            <td>Salt Lake City</td>\n",
              "            <td>191180</td>\n",
              "            <td>191280</td>\n",
              "            <td>196915.4</td>\n",
              "        </tr>\n",
              "    </tbody>\n",
              "</table>"
            ]
          },
          "metadata": {},
          "execution_count": 25
        }
      ]
    },
    {
      "cell_type": "code",
      "source": [
        "%%sql\n",
        "select City as C,\n",
        "       Population as P,\n",
        "       Population+100 as P100,\n",
        "       Population*1.03 as P3P\n",
        "from data\n",
        "where State='Utah' and\n",
        "      Population>=100000\n",
        ";\n",
        "# and or"
      ],
      "metadata": {
        "colab": {
          "base_uri": "https://localhost:8080/",
          "height": 142
        },
        "id": "0W6xkKSRne8M",
        "outputId": "6cb9a32e-5efd-431c-de51-0728169cc795"
      },
      "execution_count": null,
      "outputs": [
        {
          "output_type": "display_data",
          "data": {
            "text/plain": [
              "Running query in 'sqlite:///City.db'"
            ],
            "text/html": [
              "<span style=\"None\">Running query in &#x27;sqlite:///City.db&#x27;</span>"
            ]
          },
          "metadata": {}
        },
        {
          "output_type": "execute_result",
          "data": {
            "text/plain": [
              "+------------------+--------+--------+-----------+\n",
              "|        C         |   P    |  P100  |    P3P    |\n",
              "+------------------+--------+--------+-----------+\n",
              "|      Provo       | 116288 | 116388 | 119776.64 |\n",
              "| West Valley City | 133579 | 133679 | 137586.37 |\n",
              "|   West Jordan    | 110077 | 110177 | 113379.31 |\n",
              "|  Salt Lake City  | 191180 | 191280 |  196915.4 |\n",
              "+------------------+--------+--------+-----------+"
            ],
            "text/html": [
              "<table>\n",
              "    <thead>\n",
              "        <tr>\n",
              "            <th>C</th>\n",
              "            <th>P</th>\n",
              "            <th>P100</th>\n",
              "            <th>P3P</th>\n",
              "        </tr>\n",
              "    </thead>\n",
              "    <tbody>\n",
              "        <tr>\n",
              "            <td>Provo</td>\n",
              "            <td>116288</td>\n",
              "            <td>116388</td>\n",
              "            <td>119776.64</td>\n",
              "        </tr>\n",
              "        <tr>\n",
              "            <td>West Valley City</td>\n",
              "            <td>133579</td>\n",
              "            <td>133679</td>\n",
              "            <td>137586.37</td>\n",
              "        </tr>\n",
              "        <tr>\n",
              "            <td>West Jordan</td>\n",
              "            <td>110077</td>\n",
              "            <td>110177</td>\n",
              "            <td>113379.31</td>\n",
              "        </tr>\n",
              "        <tr>\n",
              "            <td>Salt Lake City</td>\n",
              "            <td>191180</td>\n",
              "            <td>191280</td>\n",
              "            <td>196915.4</td>\n",
              "        </tr>\n",
              "    </tbody>\n",
              "</table>"
            ]
          },
          "metadata": {},
          "execution_count": 28
        }
      ]
    },
    {
      "cell_type": "code",
      "source": [
        "%%sql\n",
        "select City as C,\n",
        "       Population as P,\n",
        "       Population+100 as P100,\n",
        "       Population*1.03 as P3P\n",
        "from data\n",
        "where (State='Utah' and\n",
        "      Population>=100000) or\n",
        "      (State='Nevada')\n",
        ";"
      ],
      "metadata": {
        "colab": {
          "base_uri": "https://localhost:8080/",
          "height": 269
        },
        "id": "C9INRIXloKGd",
        "outputId": "6196b9f8-348e-4f57-a484-0b6eb2f11d0b"
      },
      "execution_count": null,
      "outputs": [
        {
          "output_type": "display_data",
          "data": {
            "text/plain": [
              "Running query in 'sqlite:///City.db'"
            ],
            "text/html": [
              "<span style=\"None\">Running query in &#x27;sqlite:///City.db&#x27;</span>"
            ]
          },
          "metadata": {}
        },
        {
          "output_type": "execute_result",
          "data": {
            "text/plain": [
              "+------------------+--------+--------+-----------+\n",
              "|        C         |   P    |  P100  |    P3P    |\n",
              "+------------------+--------+--------+-----------+\n",
              "|    Henderson     | 270811 | 270911 | 278935.33 |\n",
              "|       Reno       | 233294 | 233394 | 240292.82 |\n",
              "| North Las Vegas  | 226877 | 226977 | 233683.31 |\n",
              "|      Sparks      | 93282  | 93382  |  96080.46 |\n",
              "|      Provo       | 116288 | 116388 | 119776.64 |\n",
              "|   Carson City    | 54080  | 54180  |  55702.4  |\n",
              "| West Valley City | 133579 | 133679 | 137586.37 |\n",
              "|    Las Vegas     | 603488 | 603588 | 621592.64 |\n",
              "|   West Jordan    | 110077 | 110177 | 113379.31 |\n",
              "|  Salt Lake City  | 191180 | 191280 |  196915.4 |\n",
              "+------------------+--------+--------+-----------+"
            ],
            "text/html": [
              "<table>\n",
              "    <thead>\n",
              "        <tr>\n",
              "            <th>C</th>\n",
              "            <th>P</th>\n",
              "            <th>P100</th>\n",
              "            <th>P3P</th>\n",
              "        </tr>\n",
              "    </thead>\n",
              "    <tbody>\n",
              "        <tr>\n",
              "            <td>Henderson</td>\n",
              "            <td>270811</td>\n",
              "            <td>270911</td>\n",
              "            <td>278935.33</td>\n",
              "        </tr>\n",
              "        <tr>\n",
              "            <td>Reno</td>\n",
              "            <td>233294</td>\n",
              "            <td>233394</td>\n",
              "            <td>240292.82</td>\n",
              "        </tr>\n",
              "        <tr>\n",
              "            <td>North Las Vegas</td>\n",
              "            <td>226877</td>\n",
              "            <td>226977</td>\n",
              "            <td>233683.31</td>\n",
              "        </tr>\n",
              "        <tr>\n",
              "            <td>Sparks</td>\n",
              "            <td>93282</td>\n",
              "            <td>93382</td>\n",
              "            <td>96080.46</td>\n",
              "        </tr>\n",
              "        <tr>\n",
              "            <td>Provo</td>\n",
              "            <td>116288</td>\n",
              "            <td>116388</td>\n",
              "            <td>119776.64</td>\n",
              "        </tr>\n",
              "        <tr>\n",
              "            <td>Carson City</td>\n",
              "            <td>54080</td>\n",
              "            <td>54180</td>\n",
              "            <td>55702.4</td>\n",
              "        </tr>\n",
              "        <tr>\n",
              "            <td>West Valley City</td>\n",
              "            <td>133579</td>\n",
              "            <td>133679</td>\n",
              "            <td>137586.37</td>\n",
              "        </tr>\n",
              "        <tr>\n",
              "            <td>Las Vegas</td>\n",
              "            <td>603488</td>\n",
              "            <td>603588</td>\n",
              "            <td>621592.64</td>\n",
              "        </tr>\n",
              "        <tr>\n",
              "            <td>West Jordan</td>\n",
              "            <td>110077</td>\n",
              "            <td>110177</td>\n",
              "            <td>113379.31</td>\n",
              "        </tr>\n",
              "        <tr>\n",
              "            <td>Salt Lake City</td>\n",
              "            <td>191180</td>\n",
              "            <td>191280</td>\n",
              "            <td>196915.4</td>\n",
              "        </tr>\n",
              "    </tbody>\n",
              "</table>"
            ]
          },
          "metadata": {},
          "execution_count": 30
        }
      ]
    },
    {
      "cell_type": "code",
      "source": [
        "%%sql\n",
        "select City as C,\n",
        "       Population as P,\n",
        "       Population+100 as P100,\n",
        "       Population*1.03 as P3P\n",
        "from data\n",
        "where State='Utah' and\n",
        "      Population>=100000\n",
        "order by Population desc\n",
        ";\n",
        "# asc desc"
      ],
      "metadata": {
        "colab": {
          "base_uri": "https://localhost:8080/",
          "height": 142
        },
        "id": "ODUD8JDJo8Dc",
        "outputId": "e4ddbac5-bac6-4f0b-974f-8d304b9331be"
      },
      "execution_count": null,
      "outputs": [
        {
          "output_type": "display_data",
          "data": {
            "text/plain": [
              "Running query in 'sqlite:///City.db'"
            ],
            "text/html": [
              "<span style=\"None\">Running query in &#x27;sqlite:///City.db&#x27;</span>"
            ]
          },
          "metadata": {}
        },
        {
          "output_type": "execute_result",
          "data": {
            "text/plain": [
              "+------------------+--------+--------+-----------+\n",
              "|        C         |   P    |  P100  |    P3P    |\n",
              "+------------------+--------+--------+-----------+\n",
              "|  Salt Lake City  | 191180 | 191280 |  196915.4 |\n",
              "| West Valley City | 133579 | 133679 | 137586.37 |\n",
              "|      Provo       | 116288 | 116388 | 119776.64 |\n",
              "|   West Jordan    | 110077 | 110177 | 113379.31 |\n",
              "+------------------+--------+--------+-----------+"
            ],
            "text/html": [
              "<table>\n",
              "    <thead>\n",
              "        <tr>\n",
              "            <th>C</th>\n",
              "            <th>P</th>\n",
              "            <th>P100</th>\n",
              "            <th>P3P</th>\n",
              "        </tr>\n",
              "    </thead>\n",
              "    <tbody>\n",
              "        <tr>\n",
              "            <td>Salt Lake City</td>\n",
              "            <td>191180</td>\n",
              "            <td>191280</td>\n",
              "            <td>196915.4</td>\n",
              "        </tr>\n",
              "        <tr>\n",
              "            <td>West Valley City</td>\n",
              "            <td>133579</td>\n",
              "            <td>133679</td>\n",
              "            <td>137586.37</td>\n",
              "        </tr>\n",
              "        <tr>\n",
              "            <td>Provo</td>\n",
              "            <td>116288</td>\n",
              "            <td>116388</td>\n",
              "            <td>119776.64</td>\n",
              "        </tr>\n",
              "        <tr>\n",
              "            <td>West Jordan</td>\n",
              "            <td>110077</td>\n",
              "            <td>110177</td>\n",
              "            <td>113379.31</td>\n",
              "        </tr>\n",
              "    </tbody>\n",
              "</table>"
            ]
          },
          "metadata": {},
          "execution_count": 33
        }
      ]
    },
    {
      "cell_type": "code",
      "source": [
        "%%sql\n",
        "select count(*) as N,\n",
        "       max(Population) as M,\n",
        "       City\n",
        "from data\n",
        "where State='Utah'\n",
        ";\n",
        "# max() min() avg() count()"
      ],
      "metadata": {
        "colab": {
          "base_uri": "https://localhost:8080/",
          "height": 78
        },
        "id": "rblXbJJJpjIp",
        "outputId": "e58650f1-ea4e-4a68-fb30-58d223250d8a"
      },
      "execution_count": null,
      "outputs": [
        {
          "output_type": "display_data",
          "data": {
            "text/plain": [
              "Running query in 'sqlite:///City.db'"
            ],
            "text/html": [
              "<span style=\"None\">Running query in &#x27;sqlite:///City.db&#x27;</span>"
            ]
          },
          "metadata": {}
        },
        {
          "output_type": "execute_result",
          "data": {
            "text/plain": [
              "+----+--------+----------------+\n",
              "| N  |   M    |      City      |\n",
              "+----+--------+----------------+\n",
              "| 19 | 191180 | Salt Lake City |\n",
              "+----+--------+----------------+"
            ],
            "text/html": [
              "<table>\n",
              "    <thead>\n",
              "        <tr>\n",
              "            <th>N</th>\n",
              "            <th>M</th>\n",
              "            <th>City</th>\n",
              "        </tr>\n",
              "    </thead>\n",
              "    <tbody>\n",
              "        <tr>\n",
              "            <td>19</td>\n",
              "            <td>191180</td>\n",
              "            <td>Salt Lake City</td>\n",
              "        </tr>\n",
              "    </tbody>\n",
              "</table>"
            ]
          },
          "metadata": {},
          "execution_count": 41
        }
      ]
    }
  ]
}