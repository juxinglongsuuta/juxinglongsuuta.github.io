{
  "nbformat": 4,
  "nbformat_minor": 0,
  "metadata": {
    "colab": {
      "provenance": []
    },
    "kernelspec": {
      "name": "python3",
      "display_name": "Python 3"
    },
    "language_info": {
      "name": "python"
    }
  },
  "cells": [
    {
      "cell_type": "code",
      "execution_count": null,
      "metadata": {
        "colab": {
          "base_uri": "https://localhost:8080/"
        },
        "id": "Cq_5zA8nzhA1",
        "outputId": "8b253414-d83c-4940-ab5a-de55eacdbe3d"
      },
      "outputs": [
        {
          "output_type": "stream",
          "name": "stdout",
          "text": [
            "Input your name: \n",
            "Xinglong\n",
            "Input your age:\n",
            "17\n",
            "My name is Xinglong.\n",
            "My age is 17.\n",
            "I am not an adult.\n"
          ]
        }
      ],
      "source": [
        "# if else statement\n",
        "print(\"Input your name: \")\n",
        "nStr=input()\n",
        "\n",
        "print(\"Input your age:\")\n",
        "ageStr=input() #\n",
        "ageInt=int(ageStr)\n",
        "\n",
        "infStr=f\"My name is {nStr}.\\nMy age is {ageInt}.\"\n",
        "print(infStr)\n",
        "\n",
        "# great = 18: adult\n",
        "# less than 18: not adult\n",
        "if ageInt>=18:\n",
        "  print(\"I am an adult.\")\n",
        "else:\n",
        "  print(\"I am not an adult.\")"
      ]
    },
    {
      "cell_type": "code",
      "source": [
        "# len()\n",
        "# comparision operators\n",
        "# conditional statement (code) if eles statement"
      ],
      "metadata": {
        "id": "CLsIuC_V5nxw"
      },
      "execution_count": null,
      "outputs": []
    },
    {
      "cell_type": "code",
      "source": [
        "# ipynb: iteractive python notebook\n",
        "# py\n",
        "s1='anly2500' # assignment\n",
        "# step 1: CPU RAM\n",
        "# step 2:\n",
        "print(s1)\n",
        "n=len(s1) # len int 4B\n",
        "#\n",
        "print(n)"
      ],
      "metadata": {
        "colab": {
          "base_uri": "https://localhost:8080/"
        },
        "id": "iX6A_fiO6DKs",
        "outputId": "8d3bdae9-9c5f-41b4-9934-a7a758b89f0c"
      },
      "execution_count": null,
      "outputs": [
        {
          "output_type": "stream",
          "name": "stdout",
          "text": [
            "anly2500\n",
            "8\n"
          ]
        }
      ]
    },
    {
      "cell_type": "code",
      "source": [
        "# operators\n",
        "# = assignment operator\n",
        "# arithmetic + - * / ** // % int float numbers\n",
        "# data types: int float string\n",
        "# boolean: True False\n",
        "b1 = True # 1B\n",
        "#\n",
        "print(b1)\n",
        "b2=False\n",
        "print(b2)"
      ],
      "metadata": {
        "colab": {
          "base_uri": "https://localhost:8080/"
        },
        "id": "rNp15afV8S8t",
        "outputId": "cd3794c3-cad6-42d4-e575-f4844f72ecb0"
      },
      "execution_count": null,
      "outputs": [
        {
          "output_type": "stream",
          "name": "stdout",
          "text": [
            "True\n",
            "False\n"
          ]
        }
      ]
    },
    {
      "cell_type": "code",
      "source": [
        "# camparison operators\n",
        "# > < == != >= <=\n",
        "# result in a boolean value\n",
        "r1= 5>4 #\n",
        "print(r1)"
      ],
      "metadata": {
        "colab": {
          "base_uri": "https://localhost:8080/"
        },
        "id": "lB_maDwL9bLp",
        "outputId": "f865a8d1-c307-4def-add1-090d7da28963"
      },
      "execution_count": null,
      "outputs": [
        {
          "output_type": "stream",
          "name": "stdout",
          "text": [
            "True\n"
          ]
        }
      ]
    },
    {
      "cell_type": "code",
      "source": [
        "r = 5<4 #\n",
        "print(r)"
      ],
      "metadata": {
        "colab": {
          "base_uri": "https://localhost:8080/"
        },
        "id": "UU-UWn5h-Yt6",
        "outputId": "729bd3c4-636d-4ddb-cdb6-635df0bfd6c0"
      },
      "execution_count": null,
      "outputs": [
        {
          "output_type": "stream",
          "name": "stdout",
          "text": [
            "False\n"
          ]
        }
      ]
    },
    {
      "cell_type": "code",
      "source": [
        "r=5>=4\n",
        "print(r)"
      ],
      "metadata": {
        "colab": {
          "base_uri": "https://localhost:8080/"
        },
        "id": "DZmAlY-T_jkD",
        "outputId": "667fdec1-2afa-420a-d731-3a4f332bdd3e"
      },
      "execution_count": null,
      "outputs": [
        {
          "output_type": "stream",
          "name": "stdout",
          "text": [
            "True\n"
          ]
        }
      ]
    },
    {
      "cell_type": "code",
      "source": [
        "r=4<=4 #\n",
        "print(r)"
      ],
      "metadata": {
        "colab": {
          "base_uri": "https://localhost:8080/"
        },
        "id": "k3izddzE_z88",
        "outputId": "56589587-5617-4f36-b92f-02b0874c622a"
      },
      "execution_count": null,
      "outputs": [
        {
          "output_type": "stream",
          "name": "stdout",
          "text": [
            "True\n"
          ]
        }
      ]
    },
    {
      "cell_type": "code",
      "source": [
        "r= 5==4 #\n",
        "print(r)"
      ],
      "metadata": {
        "colab": {
          "base_uri": "https://localhost:8080/"
        },
        "id": "WaIi1bwX_9Xv",
        "outputId": "c9516a2e-731e-4bad-f24c-2e7a55863420"
      },
      "execution_count": null,
      "outputs": [
        {
          "output_type": "stream",
          "name": "stdout",
          "text": [
            "False\n"
          ]
        }
      ]
    },
    {
      "cell_type": "code",
      "source": [
        "r= 5==5\n",
        "print(r)"
      ],
      "metadata": {
        "colab": {
          "base_uri": "https://localhost:8080/"
        },
        "id": "F8JNFGApAMLA",
        "outputId": "bf1837f3-7fc0-4173-d6d3-a7d5fae0c71a"
      },
      "execution_count": null,
      "outputs": [
        {
          "output_type": "stream",
          "name": "stdout",
          "text": [
            "True\n"
          ]
        }
      ]
    },
    {
      "cell_type": "code",
      "source": [
        "r = 5!=4 #\n",
        "print(r)"
      ],
      "metadata": {
        "colab": {
          "base_uri": "https://localhost:8080/"
        },
        "id": "DdWhvo7IAQkD",
        "outputId": "4a1abaf0-b88d-488b-a7ea-e97c81e26bf9"
      },
      "execution_count": null,
      "outputs": [
        {
          "output_type": "stream",
          "name": "stdout",
          "text": [
            "True\n"
          ]
        }
      ]
    },
    {
      "cell_type": "code",
      "source": [
        "r = 4!=4 #\n",
        "print(r)"
      ],
      "metadata": {
        "colab": {
          "base_uri": "https://localhost:8080/"
        },
        "id": "DTU2MjIYAlgO",
        "outputId": "9de03dba-b8b5-4ed9-d090-cad87455bec7"
      },
      "execution_count": null,
      "outputs": [
        {
          "output_type": "stream",
          "name": "stdout",
          "text": [
            "False\n"
          ]
        }
      ]
    },
    {
      "cell_type": "code",
      "source": [
        "print(\"Line 1\")\n",
        "print(\"Line 2\")\n",
        "print(\"Line 3\")"
      ],
      "metadata": {
        "colab": {
          "base_uri": "https://localhost:8080/"
        },
        "id": "1XCiRpYRAzaq",
        "outputId": "ed127b96-bc79-4267-b5af-07bf0b5007d9"
      },
      "execution_count": null,
      "outputs": [
        {
          "output_type": "stream",
          "name": "stdout",
          "text": [
            "Line 1\n",
            "Line 2\n",
            "Line 3\n"
          ]
        }
      ]
    },
    {
      "cell_type": "code",
      "source": [
        "print(\"Line 1\")\n",
        "print(\"Line 2\")\n",
        "\n",
        "print(\"Input the pass:\")\n",
        "pStr=input() # ram\n",
        "\n",
        "if pStr==\"p123\":\n",
        "    print(\"Line 4\")\n",
        "    print(\"Line 5\")\n",
        "# code with same indents. code block\n",
        "# code block is like private room\n",
        "\n",
        "print(\"Line 3\")\n",
        "# conditioanl statement - if else statement\n",
        "#"
      ],
      "metadata": {
        "colab": {
          "base_uri": "https://localhost:8080/"
        },
        "id": "pCCa-OuiBGno",
        "outputId": "776b3458-d394-4196-830d-f08c978682aa"
      },
      "execution_count": null,
      "outputs": [
        {
          "output_type": "stream",
          "name": "stdout",
          "text": [
            "Line 1\n",
            "Line 2\n",
            "Input the pass:\n",
            "p123\n",
            "Line 4\n",
            "Line 5\n",
            "Line 3\n"
          ]
        }
      ]
    }
  ]
}