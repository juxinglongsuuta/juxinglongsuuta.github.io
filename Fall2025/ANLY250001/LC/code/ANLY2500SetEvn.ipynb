{
  "nbformat": 4,
  "nbformat_minor": 0,
  "metadata": {
    "colab": {
      "provenance": []
    },
    "kernelspec": {
      "name": "python3",
      "display_name": "Python 3"
    },
    "language_info": {
      "name": "python"
    }
  },
  "cells": [
    {
      "cell_type": "code",
      "execution_count": null,
      "metadata": {
        "colab": {
          "base_uri": "https://localhost:8080/"
        },
        "id": "X1vEQFT0MJm2",
        "outputId": "57490db0-8183-45d7-a30f-88cd51915114"
      },
      "outputs": [
        {
          "output_type": "stream",
          "name": "stdout",
          "text": [
            "Welcome to ANLY 2500\n",
            "25\n"
          ]
        }
      ],
      "source": [
        "print(\"Welcome to ANLY 2500\")\n",
        "print(5**2)"
      ]
    }
  ]
}