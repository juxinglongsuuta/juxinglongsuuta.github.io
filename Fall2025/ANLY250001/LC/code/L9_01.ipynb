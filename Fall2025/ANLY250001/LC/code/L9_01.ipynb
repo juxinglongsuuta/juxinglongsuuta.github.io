{
  "nbformat": 4,
  "nbformat_minor": 0,
  "metadata": {
    "colab": {
      "provenance": []
    },
    "kernelspec": {
      "name": "python3",
      "display_name": "Python 3"
    },
    "language_info": {
      "name": "python"
    }
  },
  "cells": [
    {
      "cell_type": "code",
      "execution_count": null,
      "metadata": {
        "colab": {
          "base_uri": "https://localhost:8080/"
        },
        "id": "cJEOglf5uzVj",
        "outputId": "f4297dc0-1a62-4ec6-8942-cd394662ee14"
      },
      "outputs": [
        {
          "output_type": "stream",
          "name": "stdout",
          "text": [
            "Are you a member of the store? (Yes/No)\n",
            "Yes\n",
            "Input the purchase amount:\n",
            "65.6\n",
            "Congrats!\n",
            "You are a member of the store and the purchase amount is $65.60.\n",
            "You get 10% discount\n"
          ]
        }
      ],
      "source": [
        "print(\"Are you a member of the store? (Yes/No)\")\n",
        "isMStr = input()\n",
        "\n",
        "print(\"Input the purchase amount:\")\n",
        "pAmtStr=input()\n",
        "pAmtDbl=float(pAmtStr)\n",
        "\n",
        "if isMStr==\"Yes\" and pAmtDbl>50.0:\n",
        "  infStr=f\"Congrats!\\nYou are a member of the store and the purchase amount is ${pAmtDbl:.2f}.\\nYou get 10% discount\"\n",
        "  print(infStr)\n",
        "else:\n",
        "  print(\"Sorry!\\nYou do not get the 10% discount!\")"
      ]
    },
    {
      "cell_type": "code",
      "source": [
        "# operator precedence (order)\n",
        "print(2+3*4) #\n",
        "# 20\n",
        "# 14"
      ],
      "metadata": {
        "colab": {
          "base_uri": "https://localhost:8080/"
        },
        "id": "-jbaSSIMh18v",
        "outputId": "11d8a5d5-6698-4aa8-d93c-cad69b8ef6ba"
      },
      "execution_count": null,
      "outputs": [
        {
          "output_type": "stream",
          "name": "stdout",
          "text": [
            "14\n"
          ]
        }
      ]
    },
    {
      "cell_type": "code",
      "source": [
        "# weight loss practice\n",
        "\n",
        "# variables\n",
        "nStr=\"\" # name\n",
        "curW=0.0 # current weight\n",
        "p=0.0 # loss percentage\n",
        "gW=0.0 # goal\n",
        "\n",
        "# collect from keyboard\n",
        "print(\"Inputer name:\")\n",
        "nStr=input() # string RAM\n",
        "\n",
        "#\n",
        "print(\"Current weight: (lbs)\")\n",
        "curWStr=input() # weight string\n",
        "curW=float(curWStr) # float number RAM 4B\n",
        "\n",
        "#\n",
        "print(\"Weight loss percent:\")\n",
        "pStr=input()\n",
        "p=float(pStr)\n",
        "\n",
        "#\n",
        "print(\"Weight goald: (lbs)\")\n",
        "gWStr=input() # goal string\n",
        "gW=float(gWStr)\n",
        "\n",
        "#\n",
        "nW=curW # new weight after X months\n",
        "\n",
        "# month 1\n",
        "loss=nW*p # weight loss\n",
        "nW=nW-loss #\n",
        "\n",
        "iStr=f\"{nStr} will lose {loss:.2f} lbs after month 1\"\n",
        "print(iStr)\n",
        "iStr=f\"{nStr}'s new weight: {nW:.2f} lbs\"\n",
        "print(iStr)\n",
        "\n",
        "# month 2\n",
        "loss=nW*p # weight loss\n",
        "nW=nW-loss #\n",
        "\n",
        "iStr=f\"{nStr} will lose {loss:.2f} lbs after month 2\"\n",
        "print(iStr)\n",
        "iStr=f\"{nStr}'s new weight: {nW:.2f} lbs\"\n",
        "print(iStr)\n",
        "\n",
        "# month 3\n",
        "loss=nW*p # weight loss\n",
        "nW=nW-loss #\n",
        "\n",
        "iStr=f\"{nStr} will lose {loss:.2f} lbs after month 3\"\n",
        "print(iStr)\n",
        "iStr=f\"{nStr}'s new weight: {nW:.2f} lbs\"\n",
        "print(iStr)\n",
        "\n",
        "#\n",
        "if nW<=gW:\n",
        "  print(f\"Congrats!\")\n",
        "  print(\"Goal achieved!\")\n",
        "else:\n",
        "  print(\"Goal not achieved!\")"
      ],
      "metadata": {
        "colab": {
          "base_uri": "https://localhost:8080/"
        },
        "id": "WCVAxGuQi780",
        "outputId": "ca86e0a0-193e-4386-9cb1-822724f94215"
      },
      "execution_count": null,
      "outputs": [
        {
          "output_type": "stream",
          "name": "stdout",
          "text": [
            "Inputer name:\n",
            "Xinglong\n",
            "Current weight: (lbs)\n",
            "100\n",
            "Weight loss percent:\n",
            "0.1\n",
            "Weight goald: (lbs)\n",
            "80\n",
            "Xinglong will lose 10.00 lbs after month 1\n",
            "Xinglong's new weight: 90.00 lbs\n",
            "Xinglong will lose 9.00 lbs after month 2\n",
            "Xinglong's new weight: 81.00 lbs\n",
            "Xinglong will lose 8.10 lbs after month 3\n",
            "Xinglong's new weight: 72.90 lbs\n",
            "Congrats!\n",
            "Goal achieved!\n"
          ]
        }
      ]
    }
  ]
}