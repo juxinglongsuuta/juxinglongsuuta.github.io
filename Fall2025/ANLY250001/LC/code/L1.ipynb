{
  "nbformat": 4,
  "nbformat_minor": 0,
  "metadata": {
    "colab": {
      "provenance": []
    },
    "kernelspec": {
      "name": "python3",
      "display_name": "Python 3"
    },
    "language_info": {
      "name": "python"
    }
  },
  "cells": [
    {
      "cell_type": "code",
      "execution_count": null,
      "metadata": {
        "id": "W6Mnl_-IZEGg"
      },
      "outputs": [],
      "source": [
        "# Xinglong Ju\n",
        "# T10211\n",
        "\n",
        "# Python\n",
        "# Python Programming Language\n",
        "# Commands to the computer\n",
        "\n",
        "# Syntax\n",
        "\n",
        "# Languages\n",
        "# English\n",
        "# Chinese\n",
        "# Spanish\n",
        "# French\n",
        "#\n",
        "\n",
        "# Programming Languages\n",
        "# Java C++ JavaScript C# Basic\n",
        "# US Pen\n",
        "# 194X\n",
        "# Calculation\n",
        "# Calculator\n",
        "# B (Basic or Beginners)\n",
        "# C ()\n",
        "# C++\n",
        "# C++++ # C# (Microsoft)\n",
        "# Java vs C#\n",
        "# Java vs JavaScript (LiveScript)\n",
        "# Java (SUN)\n",
        "# Python (2013)\n"
      ]
    },
    {
      "cell_type": "code",
      "source": [
        "# Syntax Python\n",
        "# Commands (code, statement (term)) vs Comments (NOT codes)\n",
        "\n",
        "# Comments #\n",
        "# Comments\n",
        "print(3**2) # This is Code ** means raise to the power"
      ],
      "metadata": {
        "colab": {
          "base_uri": "https://localhost:8080/"
        },
        "id": "t2TuUY8Od_2C",
        "outputId": "8e1eab7b-7172-4ff4-a07f-85542d02e5ca"
      },
      "execution_count": null,
      "outputs": [
        {
          "output_type": "stream",
          "name": "stdout",
          "text": [
            "9\n"
          ]
        }
      ]
    },
    {
      "cell_type": "code",
      "source": [
        "# Syntax 3 hard topics\n",
        "# assignment\n",
        "# function\n",
        "# simple and complex variables\n",
        "\n",
        "# Programming\n",
        "# Two main resources\n",
        "# 1. Calculation (CPU)\n",
        "# 2. Data (Memory RAM) 16GB 32GB\n",
        "# Hard Drive (very slow)\n",
        "# Hard drive vs RAM\n",
        "# 1000X"
      ],
      "metadata": {
        "id": "4tRwmjHZfvAQ"
      },
      "execution_count": null,
      "outputs": []
    }
  ]
}